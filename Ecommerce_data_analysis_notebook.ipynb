{
  "cells": [
    {
      "cell_type": "markdown",
      "metadata": {
        "id": "H9wADwK78DCz"
      },
      "source": [
        "# Proyek Analisis Data: E-Commerce Public Dataset\n",
        "- **Nama:** A Analta Dwiyanto Palalangan Tunru\n",
        "- **Email:** randytunru@gmail.com\n",
        "- **ID Dicoding:** randytunru"
      ]
    },
    {
      "cell_type": "markdown",
      "metadata": {
        "id": "eE0raob58DC0"
      },
      "source": [
        "## Menentukan Pertanyaan Bisnis"
      ]
    },
    {
      "cell_type": "markdown",
      "metadata": {
        "id": "GmQeQ5YF8DC0"
      },
      "source": [
        "- Seller Mana yang telah mendapatkan revenue Terbanyak\n",
        "- Kategori produk apa yang memiliki penjualan paling banyak dan paling sedikit\n",
        "- Kapan terakhir kali seorang pelanggan belanja\n",
        "- Seberapa sering seorang pelanggan belanja dalam beberapa bulan terakhir\n",
        "- Berapa banyak uang yang dihabiskan pelanggan dalam beberapa bulan terakhir"
      ]
    },
    {
      "cell_type": "markdown",
      "metadata": {
        "id": "BJ1tPAo1fdk4"
      },
      "source": [
        "#Package Import"
      ]
    },
    {
      "cell_type": "code",
      "execution_count": 2,
      "metadata": {
        "id": "_7gr15Ihfxg-"
      },
      "outputs": [],
      "source": [
        "import numpy as np\n",
        "import pandas as pd\n",
        "import matplotlib.pyplot as plt\n",
        "import seaborn as sns"
      ]
    },
    {
      "cell_type": "markdown",
      "metadata": {
        "id": "-pN69a6fff4x"
      },
      "source": [
        "#Data Wrangling"
      ]
    },
    {
      "cell_type": "markdown",
      "metadata": {
        "id": "ENpE_a7fkrC1"
      },
      "source": [
        "##Data Gathering"
      ]
    },
    {
      "cell_type": "code",
      "execution_count": 3,
      "metadata": {
        "id": "r1zr1r-alipS"
      },
      "outputs": [],
      "source": [
        "path = \"https://raw.githubusercontent.com/RandyTunru/PersonalDatasets/master/E-Commerce%20Public%20Dataset/\"\n",
        "postfix = \"_dataset.csv\""
      ]
    },
    {
      "cell_type": "markdown",
      "metadata": {
        "id": "F7nECnvNkvcO"
      },
      "source": [
        "###Customers Dataframe"
      ]
    },
    {
      "cell_type": "code",
      "execution_count": 4,
      "metadata": {
        "id": "NuBlCuuBk1Gp"
      },
      "outputs": [],
      "source": [
        "customers_df = pd.read_csv(path + \"customers\" + postfix)"
      ]
    },
    {
      "cell_type": "code",
      "execution_count": 5,
      "metadata": {
        "colab": {
          "base_uri": "https://localhost:8080/",
          "height": 206
        },
        "id": "Y4lTFs8Kk8RY",
        "outputId": "d5ee9688-7293-458c-ae5c-23441755c678"
      },
      "outputs": [
        {
          "data": {
            "text/html": [
              "<div>\n",
              "<style scoped>\n",
              "    .dataframe tbody tr th:only-of-type {\n",
              "        vertical-align: middle;\n",
              "    }\n",
              "\n",
              "    .dataframe tbody tr th {\n",
              "        vertical-align: top;\n",
              "    }\n",
              "\n",
              "    .dataframe thead th {\n",
              "        text-align: right;\n",
              "    }\n",
              "</style>\n",
              "<table border=\"1\" class=\"dataframe\">\n",
              "  <thead>\n",
              "    <tr style=\"text-align: right;\">\n",
              "      <th></th>\n",
              "      <th>customer_id</th>\n",
              "      <th>customer_unique_id</th>\n",
              "      <th>customer_zip_code_prefix</th>\n",
              "      <th>customer_city</th>\n",
              "      <th>customer_state</th>\n",
              "    </tr>\n",
              "  </thead>\n",
              "  <tbody>\n",
              "    <tr>\n",
              "      <th>0</th>\n",
              "      <td>06b8999e2fba1a1fbc88172c00ba8bc7</td>\n",
              "      <td>861eff4711a542e4b93843c6dd7febb0</td>\n",
              "      <td>14409</td>\n",
              "      <td>franca</td>\n",
              "      <td>SP</td>\n",
              "    </tr>\n",
              "    <tr>\n",
              "      <th>1</th>\n",
              "      <td>18955e83d337fd6b2def6b18a428ac77</td>\n",
              "      <td>290c77bc529b7ac935b93aa66c333dc3</td>\n",
              "      <td>9790</td>\n",
              "      <td>sao bernardo do campo</td>\n",
              "      <td>SP</td>\n",
              "    </tr>\n",
              "    <tr>\n",
              "      <th>2</th>\n",
              "      <td>4e7b3e00288586ebd08712fdd0374a03</td>\n",
              "      <td>060e732b5b29e8181a18229c7b0b2b5e</td>\n",
              "      <td>1151</td>\n",
              "      <td>sao paulo</td>\n",
              "      <td>SP</td>\n",
              "    </tr>\n",
              "    <tr>\n",
              "      <th>3</th>\n",
              "      <td>b2b6027bc5c5109e529d4dc6358b12c3</td>\n",
              "      <td>259dac757896d24d7702b9acbbff3f3c</td>\n",
              "      <td>8775</td>\n",
              "      <td>mogi das cruzes</td>\n",
              "      <td>SP</td>\n",
              "    </tr>\n",
              "    <tr>\n",
              "      <th>4</th>\n",
              "      <td>4f2d8ab171c80ec8364f7c12e35b23ad</td>\n",
              "      <td>345ecd01c38d18a9036ed96c73b8d066</td>\n",
              "      <td>13056</td>\n",
              "      <td>campinas</td>\n",
              "      <td>SP</td>\n",
              "    </tr>\n",
              "  </tbody>\n",
              "</table>\n",
              "</div>"
            ],
            "text/plain": [
              "                        customer_id                customer_unique_id  \\\n",
              "0  06b8999e2fba1a1fbc88172c00ba8bc7  861eff4711a542e4b93843c6dd7febb0   \n",
              "1  18955e83d337fd6b2def6b18a428ac77  290c77bc529b7ac935b93aa66c333dc3   \n",
              "2  4e7b3e00288586ebd08712fdd0374a03  060e732b5b29e8181a18229c7b0b2b5e   \n",
              "3  b2b6027bc5c5109e529d4dc6358b12c3  259dac757896d24d7702b9acbbff3f3c   \n",
              "4  4f2d8ab171c80ec8364f7c12e35b23ad  345ecd01c38d18a9036ed96c73b8d066   \n",
              "\n",
              "   customer_zip_code_prefix          customer_city customer_state  \n",
              "0                     14409                 franca             SP  \n",
              "1                      9790  sao bernardo do campo             SP  \n",
              "2                      1151              sao paulo             SP  \n",
              "3                      8775        mogi das cruzes             SP  \n",
              "4                     13056               campinas             SP  "
            ]
          },
          "execution_count": 5,
          "metadata": {},
          "output_type": "execute_result"
        }
      ],
      "source": [
        "customers_df.head()"
      ]
    },
    {
      "cell_type": "markdown",
      "metadata": {
        "id": "BSsqVwIqlPws"
      },
      "source": [
        "###Geolocation Dataframe"
      ]
    },
    {
      "cell_type": "code",
      "execution_count": 6,
      "metadata": {
        "id": "7yGcbqXMlWqw"
      },
      "outputs": [],
      "source": [
        "geolocation_df = pd.read_csv(path + \"geolocation\" + postfix)"
      ]
    },
    {
      "cell_type": "code",
      "execution_count": 7,
      "metadata": {
        "colab": {
          "base_uri": "https://localhost:8080/",
          "height": 206
        },
        "id": "czxkJ4SwnfV5",
        "outputId": "f374f955-7cae-4902-ae23-e2e90da79735"
      },
      "outputs": [
        {
          "data": {
            "text/html": [
              "<div>\n",
              "<style scoped>\n",
              "    .dataframe tbody tr th:only-of-type {\n",
              "        vertical-align: middle;\n",
              "    }\n",
              "\n",
              "    .dataframe tbody tr th {\n",
              "        vertical-align: top;\n",
              "    }\n",
              "\n",
              "    .dataframe thead th {\n",
              "        text-align: right;\n",
              "    }\n",
              "</style>\n",
              "<table border=\"1\" class=\"dataframe\">\n",
              "  <thead>\n",
              "    <tr style=\"text-align: right;\">\n",
              "      <th></th>\n",
              "      <th>geolocation_zip_code_prefix</th>\n",
              "      <th>geolocation_lat</th>\n",
              "      <th>geolocation_lng</th>\n",
              "      <th>geolocation_city</th>\n",
              "      <th>geolocation_state</th>\n",
              "    </tr>\n",
              "  </thead>\n",
              "  <tbody>\n",
              "    <tr>\n",
              "      <th>0</th>\n",
              "      <td>1037</td>\n",
              "      <td>-23.545621</td>\n",
              "      <td>-46.639292</td>\n",
              "      <td>sao paulo</td>\n",
              "      <td>SP</td>\n",
              "    </tr>\n",
              "    <tr>\n",
              "      <th>1</th>\n",
              "      <td>1046</td>\n",
              "      <td>-23.546081</td>\n",
              "      <td>-46.644820</td>\n",
              "      <td>sao paulo</td>\n",
              "      <td>SP</td>\n",
              "    </tr>\n",
              "    <tr>\n",
              "      <th>2</th>\n",
              "      <td>1046</td>\n",
              "      <td>-23.546129</td>\n",
              "      <td>-46.642951</td>\n",
              "      <td>sao paulo</td>\n",
              "      <td>SP</td>\n",
              "    </tr>\n",
              "    <tr>\n",
              "      <th>3</th>\n",
              "      <td>1041</td>\n",
              "      <td>-23.544392</td>\n",
              "      <td>-46.639499</td>\n",
              "      <td>sao paulo</td>\n",
              "      <td>SP</td>\n",
              "    </tr>\n",
              "    <tr>\n",
              "      <th>4</th>\n",
              "      <td>1035</td>\n",
              "      <td>-23.541578</td>\n",
              "      <td>-46.641607</td>\n",
              "      <td>sao paulo</td>\n",
              "      <td>SP</td>\n",
              "    </tr>\n",
              "  </tbody>\n",
              "</table>\n",
              "</div>"
            ],
            "text/plain": [
              "   geolocation_zip_code_prefix  geolocation_lat  geolocation_lng  \\\n",
              "0                         1037       -23.545621       -46.639292   \n",
              "1                         1046       -23.546081       -46.644820   \n",
              "2                         1046       -23.546129       -46.642951   \n",
              "3                         1041       -23.544392       -46.639499   \n",
              "4                         1035       -23.541578       -46.641607   \n",
              "\n",
              "  geolocation_city geolocation_state  \n",
              "0        sao paulo                SP  \n",
              "1        sao paulo                SP  \n",
              "2        sao paulo                SP  \n",
              "3        sao paulo                SP  \n",
              "4        sao paulo                SP  "
            ]
          },
          "execution_count": 7,
          "metadata": {},
          "output_type": "execute_result"
        }
      ],
      "source": [
        "geolocation_df.head()"
      ]
    },
    {
      "cell_type": "markdown",
      "metadata": {
        "id": "B6E1SwQXlzDT"
      },
      "source": [
        "###Order Items Dataframe"
      ]
    },
    {
      "cell_type": "code",
      "execution_count": 8,
      "metadata": {
        "id": "VLKJoFPhlzDU"
      },
      "outputs": [],
      "source": [
        "order_items_df = pd.read_csv(path + \"order_items\" + postfix)"
      ]
    },
    {
      "cell_type": "code",
      "execution_count": 9,
      "metadata": {
        "colab": {
          "base_uri": "https://localhost:8080/",
          "height": 206
        },
        "id": "4zvSV8jDnhH-",
        "outputId": "68175c87-f95c-458f-8b90-74660061a0d4"
      },
      "outputs": [
        {
          "data": {
            "text/html": [
              "<div>\n",
              "<style scoped>\n",
              "    .dataframe tbody tr th:only-of-type {\n",
              "        vertical-align: middle;\n",
              "    }\n",
              "\n",
              "    .dataframe tbody tr th {\n",
              "        vertical-align: top;\n",
              "    }\n",
              "\n",
              "    .dataframe thead th {\n",
              "        text-align: right;\n",
              "    }\n",
              "</style>\n",
              "<table border=\"1\" class=\"dataframe\">\n",
              "  <thead>\n",
              "    <tr style=\"text-align: right;\">\n",
              "      <th></th>\n",
              "      <th>order_id</th>\n",
              "      <th>order_item_id</th>\n",
              "      <th>product_id</th>\n",
              "      <th>seller_id</th>\n",
              "      <th>shipping_limit_date</th>\n",
              "      <th>price</th>\n",
              "      <th>freight_value</th>\n",
              "    </tr>\n",
              "  </thead>\n",
              "  <tbody>\n",
              "    <tr>\n",
              "      <th>0</th>\n",
              "      <td>00010242fe8c5a6d1ba2dd792cb16214</td>\n",
              "      <td>1</td>\n",
              "      <td>4244733e06e7ecb4970a6e2683c13e61</td>\n",
              "      <td>48436dade18ac8b2bce089ec2a041202</td>\n",
              "      <td>2017-09-19 09:45:35</td>\n",
              "      <td>58.90</td>\n",
              "      <td>13.29</td>\n",
              "    </tr>\n",
              "    <tr>\n",
              "      <th>1</th>\n",
              "      <td>00018f77f2f0320c557190d7a144bdd3</td>\n",
              "      <td>1</td>\n",
              "      <td>e5f2d52b802189ee658865ca93d83a8f</td>\n",
              "      <td>dd7ddc04e1b6c2c614352b383efe2d36</td>\n",
              "      <td>2017-05-03 11:05:13</td>\n",
              "      <td>239.90</td>\n",
              "      <td>19.93</td>\n",
              "    </tr>\n",
              "    <tr>\n",
              "      <th>2</th>\n",
              "      <td>000229ec398224ef6ca0657da4fc703e</td>\n",
              "      <td>1</td>\n",
              "      <td>c777355d18b72b67abbeef9df44fd0fd</td>\n",
              "      <td>5b51032eddd242adc84c38acab88f23d</td>\n",
              "      <td>2018-01-18 14:48:30</td>\n",
              "      <td>199.00</td>\n",
              "      <td>17.87</td>\n",
              "    </tr>\n",
              "    <tr>\n",
              "      <th>3</th>\n",
              "      <td>00024acbcdf0a6daa1e931b038114c75</td>\n",
              "      <td>1</td>\n",
              "      <td>7634da152a4610f1595efa32f14722fc</td>\n",
              "      <td>9d7a1d34a5052409006425275ba1c2b4</td>\n",
              "      <td>2018-08-15 10:10:18</td>\n",
              "      <td>12.99</td>\n",
              "      <td>12.79</td>\n",
              "    </tr>\n",
              "    <tr>\n",
              "      <th>4</th>\n",
              "      <td>00042b26cf59d7ce69dfabb4e55b4fd9</td>\n",
              "      <td>1</td>\n",
              "      <td>ac6c3623068f30de03045865e4e10089</td>\n",
              "      <td>df560393f3a51e74553ab94004ba5c87</td>\n",
              "      <td>2017-02-13 13:57:51</td>\n",
              "      <td>199.90</td>\n",
              "      <td>18.14</td>\n",
              "    </tr>\n",
              "  </tbody>\n",
              "</table>\n",
              "</div>"
            ],
            "text/plain": [
              "                           order_id  order_item_id  \\\n",
              "0  00010242fe8c5a6d1ba2dd792cb16214              1   \n",
              "1  00018f77f2f0320c557190d7a144bdd3              1   \n",
              "2  000229ec398224ef6ca0657da4fc703e              1   \n",
              "3  00024acbcdf0a6daa1e931b038114c75              1   \n",
              "4  00042b26cf59d7ce69dfabb4e55b4fd9              1   \n",
              "\n",
              "                         product_id                         seller_id  \\\n",
              "0  4244733e06e7ecb4970a6e2683c13e61  48436dade18ac8b2bce089ec2a041202   \n",
              "1  e5f2d52b802189ee658865ca93d83a8f  dd7ddc04e1b6c2c614352b383efe2d36   \n",
              "2  c777355d18b72b67abbeef9df44fd0fd  5b51032eddd242adc84c38acab88f23d   \n",
              "3  7634da152a4610f1595efa32f14722fc  9d7a1d34a5052409006425275ba1c2b4   \n",
              "4  ac6c3623068f30de03045865e4e10089  df560393f3a51e74553ab94004ba5c87   \n",
              "\n",
              "   shipping_limit_date   price  freight_value  \n",
              "0  2017-09-19 09:45:35   58.90          13.29  \n",
              "1  2017-05-03 11:05:13  239.90          19.93  \n",
              "2  2018-01-18 14:48:30  199.00          17.87  \n",
              "3  2018-08-15 10:10:18   12.99          12.79  \n",
              "4  2017-02-13 13:57:51  199.90          18.14  "
            ]
          },
          "execution_count": 9,
          "metadata": {},
          "output_type": "execute_result"
        }
      ],
      "source": [
        "order_items_df.head()"
      ]
    },
    {
      "cell_type": "markdown",
      "metadata": {
        "id": "CdlprCPwmyrr"
      },
      "source": [
        "###Order Payments Dataframe"
      ]
    },
    {
      "cell_type": "code",
      "execution_count": 10,
      "metadata": {
        "id": "s3KK1B4Ymyrr"
      },
      "outputs": [],
      "source": [
        "order_payments_df = pd.read_csv(path + \"order_payments\" + postfix)"
      ]
    },
    {
      "cell_type": "code",
      "execution_count": 11,
      "metadata": {
        "colab": {
          "base_uri": "https://localhost:8080/",
          "height": 206
        },
        "id": "xh1ituv9niKb",
        "outputId": "26d2aa3e-108d-4207-bd06-b55b20de97ce"
      },
      "outputs": [
        {
          "data": {
            "text/html": [
              "<div>\n",
              "<style scoped>\n",
              "    .dataframe tbody tr th:only-of-type {\n",
              "        vertical-align: middle;\n",
              "    }\n",
              "\n",
              "    .dataframe tbody tr th {\n",
              "        vertical-align: top;\n",
              "    }\n",
              "\n",
              "    .dataframe thead th {\n",
              "        text-align: right;\n",
              "    }\n",
              "</style>\n",
              "<table border=\"1\" class=\"dataframe\">\n",
              "  <thead>\n",
              "    <tr style=\"text-align: right;\">\n",
              "      <th></th>\n",
              "      <th>order_id</th>\n",
              "      <th>payment_sequential</th>\n",
              "      <th>payment_type</th>\n",
              "      <th>payment_installments</th>\n",
              "      <th>payment_value</th>\n",
              "    </tr>\n",
              "  </thead>\n",
              "  <tbody>\n",
              "    <tr>\n",
              "      <th>0</th>\n",
              "      <td>b81ef226f3fe1789b1e8b2acac839d17</td>\n",
              "      <td>1</td>\n",
              "      <td>credit_card</td>\n",
              "      <td>8</td>\n",
              "      <td>99.33</td>\n",
              "    </tr>\n",
              "    <tr>\n",
              "      <th>1</th>\n",
              "      <td>a9810da82917af2d9aefd1278f1dcfa0</td>\n",
              "      <td>1</td>\n",
              "      <td>credit_card</td>\n",
              "      <td>1</td>\n",
              "      <td>24.39</td>\n",
              "    </tr>\n",
              "    <tr>\n",
              "      <th>2</th>\n",
              "      <td>25e8ea4e93396b6fa0d3dd708e76c1bd</td>\n",
              "      <td>1</td>\n",
              "      <td>credit_card</td>\n",
              "      <td>1</td>\n",
              "      <td>65.71</td>\n",
              "    </tr>\n",
              "    <tr>\n",
              "      <th>3</th>\n",
              "      <td>ba78997921bbcdc1373bb41e913ab953</td>\n",
              "      <td>1</td>\n",
              "      <td>credit_card</td>\n",
              "      <td>8</td>\n",
              "      <td>107.78</td>\n",
              "    </tr>\n",
              "    <tr>\n",
              "      <th>4</th>\n",
              "      <td>42fdf880ba16b47b59251dd489d4441a</td>\n",
              "      <td>1</td>\n",
              "      <td>credit_card</td>\n",
              "      <td>2</td>\n",
              "      <td>128.45</td>\n",
              "    </tr>\n",
              "  </tbody>\n",
              "</table>\n",
              "</div>"
            ],
            "text/plain": [
              "                           order_id  payment_sequential payment_type  \\\n",
              "0  b81ef226f3fe1789b1e8b2acac839d17                   1  credit_card   \n",
              "1  a9810da82917af2d9aefd1278f1dcfa0                   1  credit_card   \n",
              "2  25e8ea4e93396b6fa0d3dd708e76c1bd                   1  credit_card   \n",
              "3  ba78997921bbcdc1373bb41e913ab953                   1  credit_card   \n",
              "4  42fdf880ba16b47b59251dd489d4441a                   1  credit_card   \n",
              "\n",
              "   payment_installments  payment_value  \n",
              "0                     8          99.33  \n",
              "1                     1          24.39  \n",
              "2                     1          65.71  \n",
              "3                     8         107.78  \n",
              "4                     2         128.45  "
            ]
          },
          "execution_count": 11,
          "metadata": {},
          "output_type": "execute_result"
        }
      ],
      "source": [
        "order_payments_df.head()"
      ]
    },
    {
      "cell_type": "markdown",
      "metadata": {
        "id": "yk7Rer66m31p"
      },
      "source": [
        "###Order Reviews Dataframe"
      ]
    },
    {
      "cell_type": "code",
      "execution_count": 12,
      "metadata": {
        "id": "0fNH_3mTm31p"
      },
      "outputs": [],
      "source": [
        "order_reviews_df = pd.read_csv(path + \"order_reviews\" + postfix)"
      ]
    },
    {
      "cell_type": "code",
      "execution_count": 13,
      "metadata": {
        "colab": {
          "base_uri": "https://localhost:8080/",
          "height": 206
        },
        "id": "eVUVEMwTnjpK",
        "outputId": "3ea0cffd-d333-4300-bc1b-ad152cba6d10"
      },
      "outputs": [
        {
          "data": {
            "text/html": [
              "<div>\n",
              "<style scoped>\n",
              "    .dataframe tbody tr th:only-of-type {\n",
              "        vertical-align: middle;\n",
              "    }\n",
              "\n",
              "    .dataframe tbody tr th {\n",
              "        vertical-align: top;\n",
              "    }\n",
              "\n",
              "    .dataframe thead th {\n",
              "        text-align: right;\n",
              "    }\n",
              "</style>\n",
              "<table border=\"1\" class=\"dataframe\">\n",
              "  <thead>\n",
              "    <tr style=\"text-align: right;\">\n",
              "      <th></th>\n",
              "      <th>review_id</th>\n",
              "      <th>order_id</th>\n",
              "      <th>review_score</th>\n",
              "      <th>review_comment_title</th>\n",
              "      <th>review_comment_message</th>\n",
              "      <th>review_creation_date</th>\n",
              "      <th>review_answer_timestamp</th>\n",
              "    </tr>\n",
              "  </thead>\n",
              "  <tbody>\n",
              "    <tr>\n",
              "      <th>0</th>\n",
              "      <td>7bc2406110b926393aa56f80a40eba40</td>\n",
              "      <td>73fc7af87114b39712e6da79b0a377eb</td>\n",
              "      <td>4</td>\n",
              "      <td>NaN</td>\n",
              "      <td>NaN</td>\n",
              "      <td>2018-01-18 00:00:00</td>\n",
              "      <td>2018-01-18 21:46:59</td>\n",
              "    </tr>\n",
              "    <tr>\n",
              "      <th>1</th>\n",
              "      <td>80e641a11e56f04c1ad469d5645fdfde</td>\n",
              "      <td>a548910a1c6147796b98fdf73dbeba33</td>\n",
              "      <td>5</td>\n",
              "      <td>NaN</td>\n",
              "      <td>NaN</td>\n",
              "      <td>2018-03-10 00:00:00</td>\n",
              "      <td>2018-03-11 03:05:13</td>\n",
              "    </tr>\n",
              "    <tr>\n",
              "      <th>2</th>\n",
              "      <td>228ce5500dc1d8e020d8d1322874b6f0</td>\n",
              "      <td>f9e4b658b201a9f2ecdecbb34bed034b</td>\n",
              "      <td>5</td>\n",
              "      <td>NaN</td>\n",
              "      <td>NaN</td>\n",
              "      <td>2018-02-17 00:00:00</td>\n",
              "      <td>2018-02-18 14:36:24</td>\n",
              "    </tr>\n",
              "    <tr>\n",
              "      <th>3</th>\n",
              "      <td>e64fb393e7b32834bb789ff8bb30750e</td>\n",
              "      <td>658677c97b385a9be170737859d3511b</td>\n",
              "      <td>5</td>\n",
              "      <td>NaN</td>\n",
              "      <td>Recebi bem antes do prazo estipulado.</td>\n",
              "      <td>2017-04-21 00:00:00</td>\n",
              "      <td>2017-04-21 22:02:06</td>\n",
              "    </tr>\n",
              "    <tr>\n",
              "      <th>4</th>\n",
              "      <td>f7c4243c7fe1938f181bec41a392bdeb</td>\n",
              "      <td>8e6bfb81e283fa7e4f11123a3fb894f1</td>\n",
              "      <td>5</td>\n",
              "      <td>NaN</td>\n",
              "      <td>Parabéns lojas lannister adorei comprar pela I...</td>\n",
              "      <td>2018-03-01 00:00:00</td>\n",
              "      <td>2018-03-02 10:26:53</td>\n",
              "    </tr>\n",
              "  </tbody>\n",
              "</table>\n",
              "</div>"
            ],
            "text/plain": [
              "                          review_id                          order_id  \\\n",
              "0  7bc2406110b926393aa56f80a40eba40  73fc7af87114b39712e6da79b0a377eb   \n",
              "1  80e641a11e56f04c1ad469d5645fdfde  a548910a1c6147796b98fdf73dbeba33   \n",
              "2  228ce5500dc1d8e020d8d1322874b6f0  f9e4b658b201a9f2ecdecbb34bed034b   \n",
              "3  e64fb393e7b32834bb789ff8bb30750e  658677c97b385a9be170737859d3511b   \n",
              "4  f7c4243c7fe1938f181bec41a392bdeb  8e6bfb81e283fa7e4f11123a3fb894f1   \n",
              "\n",
              "   review_score review_comment_title  \\\n",
              "0             4                  NaN   \n",
              "1             5                  NaN   \n",
              "2             5                  NaN   \n",
              "3             5                  NaN   \n",
              "4             5                  NaN   \n",
              "\n",
              "                              review_comment_message review_creation_date  \\\n",
              "0                                                NaN  2018-01-18 00:00:00   \n",
              "1                                                NaN  2018-03-10 00:00:00   \n",
              "2                                                NaN  2018-02-17 00:00:00   \n",
              "3              Recebi bem antes do prazo estipulado.  2017-04-21 00:00:00   \n",
              "4  Parabéns lojas lannister adorei comprar pela I...  2018-03-01 00:00:00   \n",
              "\n",
              "  review_answer_timestamp  \n",
              "0     2018-01-18 21:46:59  \n",
              "1     2018-03-11 03:05:13  \n",
              "2     2018-02-18 14:36:24  \n",
              "3     2017-04-21 22:02:06  \n",
              "4     2018-03-02 10:26:53  "
            ]
          },
          "execution_count": 13,
          "metadata": {},
          "output_type": "execute_result"
        }
      ],
      "source": [
        "order_reviews_df.head()"
      ]
    },
    {
      "cell_type": "markdown",
      "metadata": {
        "id": "ma4hwOo9m4TB"
      },
      "source": [
        "###Orders Dataframe"
      ]
    },
    {
      "cell_type": "code",
      "execution_count": 14,
      "metadata": {
        "id": "rPNhWDvNm4TB"
      },
      "outputs": [],
      "source": [
        "orders_df = pd.read_csv(path + \"orders\" + postfix)"
      ]
    },
    {
      "cell_type": "code",
      "execution_count": 15,
      "metadata": {
        "colab": {
          "base_uri": "https://localhost:8080/",
          "height": 206
        },
        "id": "9rB2c70znoGn",
        "outputId": "45299bb6-aee8-4d25-f211-7466bdf4dc91"
      },
      "outputs": [
        {
          "data": {
            "text/html": [
              "<div>\n",
              "<style scoped>\n",
              "    .dataframe tbody tr th:only-of-type {\n",
              "        vertical-align: middle;\n",
              "    }\n",
              "\n",
              "    .dataframe tbody tr th {\n",
              "        vertical-align: top;\n",
              "    }\n",
              "\n",
              "    .dataframe thead th {\n",
              "        text-align: right;\n",
              "    }\n",
              "</style>\n",
              "<table border=\"1\" class=\"dataframe\">\n",
              "  <thead>\n",
              "    <tr style=\"text-align: right;\">\n",
              "      <th></th>\n",
              "      <th>order_id</th>\n",
              "      <th>customer_id</th>\n",
              "      <th>order_status</th>\n",
              "      <th>order_purchase_timestamp</th>\n",
              "      <th>order_approved_at</th>\n",
              "      <th>order_delivered_carrier_date</th>\n",
              "      <th>order_delivered_customer_date</th>\n",
              "      <th>order_estimated_delivery_date</th>\n",
              "    </tr>\n",
              "  </thead>\n",
              "  <tbody>\n",
              "    <tr>\n",
              "      <th>0</th>\n",
              "      <td>e481f51cbdc54678b7cc49136f2d6af7</td>\n",
              "      <td>9ef432eb6251297304e76186b10a928d</td>\n",
              "      <td>delivered</td>\n",
              "      <td>2017-10-02 10:56:33</td>\n",
              "      <td>2017-10-02 11:07:15</td>\n",
              "      <td>2017-10-04 19:55:00</td>\n",
              "      <td>2017-10-10 21:25:13</td>\n",
              "      <td>2017-10-18 00:00:00</td>\n",
              "    </tr>\n",
              "    <tr>\n",
              "      <th>1</th>\n",
              "      <td>53cdb2fc8bc7dce0b6741e2150273451</td>\n",
              "      <td>b0830fb4747a6c6d20dea0b8c802d7ef</td>\n",
              "      <td>delivered</td>\n",
              "      <td>2018-07-24 20:41:37</td>\n",
              "      <td>2018-07-26 03:24:27</td>\n",
              "      <td>2018-07-26 14:31:00</td>\n",
              "      <td>2018-08-07 15:27:45</td>\n",
              "      <td>2018-08-13 00:00:00</td>\n",
              "    </tr>\n",
              "    <tr>\n",
              "      <th>2</th>\n",
              "      <td>47770eb9100c2d0c44946d9cf07ec65d</td>\n",
              "      <td>41ce2a54c0b03bf3443c3d931a367089</td>\n",
              "      <td>delivered</td>\n",
              "      <td>2018-08-08 08:38:49</td>\n",
              "      <td>2018-08-08 08:55:23</td>\n",
              "      <td>2018-08-08 13:50:00</td>\n",
              "      <td>2018-08-17 18:06:29</td>\n",
              "      <td>2018-09-04 00:00:00</td>\n",
              "    </tr>\n",
              "    <tr>\n",
              "      <th>3</th>\n",
              "      <td>949d5b44dbf5de918fe9c16f97b45f8a</td>\n",
              "      <td>f88197465ea7920adcdbec7375364d82</td>\n",
              "      <td>delivered</td>\n",
              "      <td>2017-11-18 19:28:06</td>\n",
              "      <td>2017-11-18 19:45:59</td>\n",
              "      <td>2017-11-22 13:39:59</td>\n",
              "      <td>2017-12-02 00:28:42</td>\n",
              "      <td>2017-12-15 00:00:00</td>\n",
              "    </tr>\n",
              "    <tr>\n",
              "      <th>4</th>\n",
              "      <td>ad21c59c0840e6cb83a9ceb5573f8159</td>\n",
              "      <td>8ab97904e6daea8866dbdbc4fb7aad2c</td>\n",
              "      <td>delivered</td>\n",
              "      <td>2018-02-13 21:18:39</td>\n",
              "      <td>2018-02-13 22:20:29</td>\n",
              "      <td>2018-02-14 19:46:34</td>\n",
              "      <td>2018-02-16 18:17:02</td>\n",
              "      <td>2018-02-26 00:00:00</td>\n",
              "    </tr>\n",
              "  </tbody>\n",
              "</table>\n",
              "</div>"
            ],
            "text/plain": [
              "                           order_id                       customer_id  \\\n",
              "0  e481f51cbdc54678b7cc49136f2d6af7  9ef432eb6251297304e76186b10a928d   \n",
              "1  53cdb2fc8bc7dce0b6741e2150273451  b0830fb4747a6c6d20dea0b8c802d7ef   \n",
              "2  47770eb9100c2d0c44946d9cf07ec65d  41ce2a54c0b03bf3443c3d931a367089   \n",
              "3  949d5b44dbf5de918fe9c16f97b45f8a  f88197465ea7920adcdbec7375364d82   \n",
              "4  ad21c59c0840e6cb83a9ceb5573f8159  8ab97904e6daea8866dbdbc4fb7aad2c   \n",
              "\n",
              "  order_status order_purchase_timestamp    order_approved_at  \\\n",
              "0    delivered      2017-10-02 10:56:33  2017-10-02 11:07:15   \n",
              "1    delivered      2018-07-24 20:41:37  2018-07-26 03:24:27   \n",
              "2    delivered      2018-08-08 08:38:49  2018-08-08 08:55:23   \n",
              "3    delivered      2017-11-18 19:28:06  2017-11-18 19:45:59   \n",
              "4    delivered      2018-02-13 21:18:39  2018-02-13 22:20:29   \n",
              "\n",
              "  order_delivered_carrier_date order_delivered_customer_date  \\\n",
              "0          2017-10-04 19:55:00           2017-10-10 21:25:13   \n",
              "1          2018-07-26 14:31:00           2018-08-07 15:27:45   \n",
              "2          2018-08-08 13:50:00           2018-08-17 18:06:29   \n",
              "3          2017-11-22 13:39:59           2017-12-02 00:28:42   \n",
              "4          2018-02-14 19:46:34           2018-02-16 18:17:02   \n",
              "\n",
              "  order_estimated_delivery_date  \n",
              "0           2017-10-18 00:00:00  \n",
              "1           2018-08-13 00:00:00  \n",
              "2           2018-09-04 00:00:00  \n",
              "3           2017-12-15 00:00:00  \n",
              "4           2018-02-26 00:00:00  "
            ]
          },
          "execution_count": 15,
          "metadata": {},
          "output_type": "execute_result"
        }
      ],
      "source": [
        "orders_df.head()"
      ]
    },
    {
      "cell_type": "markdown",
      "metadata": {
        "id": "SnCREU5VnBmU"
      },
      "source": [
        "###Product Category Dataframe"
      ]
    },
    {
      "cell_type": "code",
      "execution_count": 16,
      "metadata": {
        "id": "PfxUbroGnBmU"
      },
      "outputs": [],
      "source": [
        "product_category_df = pd.read_csv(path + \"product_category_name_translation.csv\")"
      ]
    },
    {
      "cell_type": "code",
      "execution_count": 17,
      "metadata": {
        "colab": {
          "base_uri": "https://localhost:8080/",
          "height": 206
        },
        "id": "N0b9NUzQnqBE",
        "outputId": "cedab950-b3e9-425c-d756-d35741dc410b"
      },
      "outputs": [
        {
          "data": {
            "text/html": [
              "<div>\n",
              "<style scoped>\n",
              "    .dataframe tbody tr th:only-of-type {\n",
              "        vertical-align: middle;\n",
              "    }\n",
              "\n",
              "    .dataframe tbody tr th {\n",
              "        vertical-align: top;\n",
              "    }\n",
              "\n",
              "    .dataframe thead th {\n",
              "        text-align: right;\n",
              "    }\n",
              "</style>\n",
              "<table border=\"1\" class=\"dataframe\">\n",
              "  <thead>\n",
              "    <tr style=\"text-align: right;\">\n",
              "      <th></th>\n",
              "      <th>product_category_name</th>\n",
              "      <th>product_category_name_english</th>\n",
              "    </tr>\n",
              "  </thead>\n",
              "  <tbody>\n",
              "    <tr>\n",
              "      <th>0</th>\n",
              "      <td>beleza_saude</td>\n",
              "      <td>health_beauty</td>\n",
              "    </tr>\n",
              "    <tr>\n",
              "      <th>1</th>\n",
              "      <td>informatica_acessorios</td>\n",
              "      <td>computers_accessories</td>\n",
              "    </tr>\n",
              "    <tr>\n",
              "      <th>2</th>\n",
              "      <td>automotivo</td>\n",
              "      <td>auto</td>\n",
              "    </tr>\n",
              "    <tr>\n",
              "      <th>3</th>\n",
              "      <td>cama_mesa_banho</td>\n",
              "      <td>bed_bath_table</td>\n",
              "    </tr>\n",
              "    <tr>\n",
              "      <th>4</th>\n",
              "      <td>moveis_decoracao</td>\n",
              "      <td>furniture_decor</td>\n",
              "    </tr>\n",
              "  </tbody>\n",
              "</table>\n",
              "</div>"
            ],
            "text/plain": [
              "    product_category_name product_category_name_english\n",
              "0            beleza_saude                 health_beauty\n",
              "1  informatica_acessorios         computers_accessories\n",
              "2              automotivo                          auto\n",
              "3         cama_mesa_banho                bed_bath_table\n",
              "4        moveis_decoracao               furniture_decor"
            ]
          },
          "execution_count": 17,
          "metadata": {},
          "output_type": "execute_result"
        }
      ],
      "source": [
        "product_category_df.head()"
      ]
    },
    {
      "cell_type": "markdown",
      "metadata": {
        "id": "hjHWoYa9nG2f"
      },
      "source": [
        "###Products Dataframe"
      ]
    },
    {
      "cell_type": "code",
      "execution_count": 18,
      "metadata": {
        "id": "-9T6eFF8nG2g"
      },
      "outputs": [],
      "source": [
        "products_df = pd.read_csv(path + \"products\" + postfix)"
      ]
    },
    {
      "cell_type": "code",
      "execution_count": 19,
      "metadata": {
        "colab": {
          "base_uri": "https://localhost:8080/",
          "height": 206
        },
        "id": "O-FlinZZnsT8",
        "outputId": "953672d5-16c8-48e0-9690-81719e87d5e4"
      },
      "outputs": [
        {
          "data": {
            "text/html": [
              "<div>\n",
              "<style scoped>\n",
              "    .dataframe tbody tr th:only-of-type {\n",
              "        vertical-align: middle;\n",
              "    }\n",
              "\n",
              "    .dataframe tbody tr th {\n",
              "        vertical-align: top;\n",
              "    }\n",
              "\n",
              "    .dataframe thead th {\n",
              "        text-align: right;\n",
              "    }\n",
              "</style>\n",
              "<table border=\"1\" class=\"dataframe\">\n",
              "  <thead>\n",
              "    <tr style=\"text-align: right;\">\n",
              "      <th></th>\n",
              "      <th>product_id</th>\n",
              "      <th>product_category_name</th>\n",
              "      <th>product_name_lenght</th>\n",
              "      <th>product_description_lenght</th>\n",
              "      <th>product_photos_qty</th>\n",
              "      <th>product_weight_g</th>\n",
              "      <th>product_length_cm</th>\n",
              "      <th>product_height_cm</th>\n",
              "      <th>product_width_cm</th>\n",
              "    </tr>\n",
              "  </thead>\n",
              "  <tbody>\n",
              "    <tr>\n",
              "      <th>0</th>\n",
              "      <td>1e9e8ef04dbcff4541ed26657ea517e5</td>\n",
              "      <td>perfumaria</td>\n",
              "      <td>40.0</td>\n",
              "      <td>287.0</td>\n",
              "      <td>1.0</td>\n",
              "      <td>225.0</td>\n",
              "      <td>16.0</td>\n",
              "      <td>10.0</td>\n",
              "      <td>14.0</td>\n",
              "    </tr>\n",
              "    <tr>\n",
              "      <th>1</th>\n",
              "      <td>3aa071139cb16b67ca9e5dea641aaa2f</td>\n",
              "      <td>artes</td>\n",
              "      <td>44.0</td>\n",
              "      <td>276.0</td>\n",
              "      <td>1.0</td>\n",
              "      <td>1000.0</td>\n",
              "      <td>30.0</td>\n",
              "      <td>18.0</td>\n",
              "      <td>20.0</td>\n",
              "    </tr>\n",
              "    <tr>\n",
              "      <th>2</th>\n",
              "      <td>96bd76ec8810374ed1b65e291975717f</td>\n",
              "      <td>esporte_lazer</td>\n",
              "      <td>46.0</td>\n",
              "      <td>250.0</td>\n",
              "      <td>1.0</td>\n",
              "      <td>154.0</td>\n",
              "      <td>18.0</td>\n",
              "      <td>9.0</td>\n",
              "      <td>15.0</td>\n",
              "    </tr>\n",
              "    <tr>\n",
              "      <th>3</th>\n",
              "      <td>cef67bcfe19066a932b7673e239eb23d</td>\n",
              "      <td>bebes</td>\n",
              "      <td>27.0</td>\n",
              "      <td>261.0</td>\n",
              "      <td>1.0</td>\n",
              "      <td>371.0</td>\n",
              "      <td>26.0</td>\n",
              "      <td>4.0</td>\n",
              "      <td>26.0</td>\n",
              "    </tr>\n",
              "    <tr>\n",
              "      <th>4</th>\n",
              "      <td>9dc1a7de274444849c219cff195d0b71</td>\n",
              "      <td>utilidades_domesticas</td>\n",
              "      <td>37.0</td>\n",
              "      <td>402.0</td>\n",
              "      <td>4.0</td>\n",
              "      <td>625.0</td>\n",
              "      <td>20.0</td>\n",
              "      <td>17.0</td>\n",
              "      <td>13.0</td>\n",
              "    </tr>\n",
              "  </tbody>\n",
              "</table>\n",
              "</div>"
            ],
            "text/plain": [
              "                         product_id  product_category_name  \\\n",
              "0  1e9e8ef04dbcff4541ed26657ea517e5             perfumaria   \n",
              "1  3aa071139cb16b67ca9e5dea641aaa2f                  artes   \n",
              "2  96bd76ec8810374ed1b65e291975717f          esporte_lazer   \n",
              "3  cef67bcfe19066a932b7673e239eb23d                  bebes   \n",
              "4  9dc1a7de274444849c219cff195d0b71  utilidades_domesticas   \n",
              "\n",
              "   product_name_lenght  product_description_lenght  product_photos_qty  \\\n",
              "0                 40.0                       287.0                 1.0   \n",
              "1                 44.0                       276.0                 1.0   \n",
              "2                 46.0                       250.0                 1.0   \n",
              "3                 27.0                       261.0                 1.0   \n",
              "4                 37.0                       402.0                 4.0   \n",
              "\n",
              "   product_weight_g  product_length_cm  product_height_cm  product_width_cm  \n",
              "0             225.0               16.0               10.0              14.0  \n",
              "1            1000.0               30.0               18.0              20.0  \n",
              "2             154.0               18.0                9.0              15.0  \n",
              "3             371.0               26.0                4.0              26.0  \n",
              "4             625.0               20.0               17.0              13.0  "
            ]
          },
          "execution_count": 19,
          "metadata": {},
          "output_type": "execute_result"
        }
      ],
      "source": [
        "products_df.head()"
      ]
    },
    {
      "cell_type": "code",
      "execution_count": 20,
      "metadata": {
        "colab": {
          "base_uri": "https://localhost:8080/"
        },
        "id": "YFVt4CzGIi_y",
        "outputId": "44443f48-858e-425a-8e67-2637a024c6c3"
      },
      "outputs": [
        {
          "data": {
            "text/plain": [
              "product_category_name\n",
              "cama_mesa_banho                  3029\n",
              "esporte_lazer                    2867\n",
              "moveis_decoracao                 2657\n",
              "beleza_saude                     2444\n",
              "utilidades_domesticas            2335\n",
              "                                 ... \n",
              "fashion_roupa_infanto_juvenil       5\n",
              "casa_conforto_2                     5\n",
              "pc_gamer                            3\n",
              "seguros_e_servicos                  2\n",
              "cds_dvds_musicais                   1\n",
              "Name: count, Length: 73, dtype: int64"
            ]
          },
          "execution_count": 20,
          "metadata": {},
          "output_type": "execute_result"
        }
      ],
      "source": [
        "products_df.product_category_name.value_counts()"
      ]
    },
    {
      "cell_type": "markdown",
      "metadata": {
        "id": "yEWReoYrnHI8"
      },
      "source": [
        "###Sellers Dataframe"
      ]
    },
    {
      "cell_type": "code",
      "execution_count": 21,
      "metadata": {
        "id": "XNgPnuKXnHI8"
      },
      "outputs": [],
      "source": [
        "sellers_df = pd.read_csv(path + \"sellers\" + postfix)"
      ]
    },
    {
      "cell_type": "code",
      "execution_count": 22,
      "metadata": {
        "colab": {
          "base_uri": "https://localhost:8080/",
          "height": 206
        },
        "id": "e02iSdZLnuEE",
        "outputId": "9b335d0e-7909-4bcf-f519-080b21983086"
      },
      "outputs": [
        {
          "data": {
            "text/html": [
              "<div>\n",
              "<style scoped>\n",
              "    .dataframe tbody tr th:only-of-type {\n",
              "        vertical-align: middle;\n",
              "    }\n",
              "\n",
              "    .dataframe tbody tr th {\n",
              "        vertical-align: top;\n",
              "    }\n",
              "\n",
              "    .dataframe thead th {\n",
              "        text-align: right;\n",
              "    }\n",
              "</style>\n",
              "<table border=\"1\" class=\"dataframe\">\n",
              "  <thead>\n",
              "    <tr style=\"text-align: right;\">\n",
              "      <th></th>\n",
              "      <th>seller_id</th>\n",
              "      <th>seller_zip_code_prefix</th>\n",
              "      <th>seller_city</th>\n",
              "      <th>seller_state</th>\n",
              "    </tr>\n",
              "  </thead>\n",
              "  <tbody>\n",
              "    <tr>\n",
              "      <th>0</th>\n",
              "      <td>3442f8959a84dea7ee197c632cb2df15</td>\n",
              "      <td>13023</td>\n",
              "      <td>campinas</td>\n",
              "      <td>SP</td>\n",
              "    </tr>\n",
              "    <tr>\n",
              "      <th>1</th>\n",
              "      <td>d1b65fc7debc3361ea86b5f14c68d2e2</td>\n",
              "      <td>13844</td>\n",
              "      <td>mogi guacu</td>\n",
              "      <td>SP</td>\n",
              "    </tr>\n",
              "    <tr>\n",
              "      <th>2</th>\n",
              "      <td>ce3ad9de960102d0677a81f5d0bb7b2d</td>\n",
              "      <td>20031</td>\n",
              "      <td>rio de janeiro</td>\n",
              "      <td>RJ</td>\n",
              "    </tr>\n",
              "    <tr>\n",
              "      <th>3</th>\n",
              "      <td>c0f3eea2e14555b6faeea3dd58c1b1c3</td>\n",
              "      <td>4195</td>\n",
              "      <td>sao paulo</td>\n",
              "      <td>SP</td>\n",
              "    </tr>\n",
              "    <tr>\n",
              "      <th>4</th>\n",
              "      <td>51a04a8a6bdcb23deccc82b0b80742cf</td>\n",
              "      <td>12914</td>\n",
              "      <td>braganca paulista</td>\n",
              "      <td>SP</td>\n",
              "    </tr>\n",
              "  </tbody>\n",
              "</table>\n",
              "</div>"
            ],
            "text/plain": [
              "                          seller_id  seller_zip_code_prefix  \\\n",
              "0  3442f8959a84dea7ee197c632cb2df15                   13023   \n",
              "1  d1b65fc7debc3361ea86b5f14c68d2e2                   13844   \n",
              "2  ce3ad9de960102d0677a81f5d0bb7b2d                   20031   \n",
              "3  c0f3eea2e14555b6faeea3dd58c1b1c3                    4195   \n",
              "4  51a04a8a6bdcb23deccc82b0b80742cf                   12914   \n",
              "\n",
              "         seller_city seller_state  \n",
              "0           campinas           SP  \n",
              "1         mogi guacu           SP  \n",
              "2     rio de janeiro           RJ  \n",
              "3          sao paulo           SP  \n",
              "4  braganca paulista           SP  "
            ]
          },
          "execution_count": 22,
          "metadata": {},
          "output_type": "execute_result"
        }
      ],
      "source": [
        "sellers_df.head()"
      ]
    },
    {
      "cell_type": "markdown",
      "metadata": {
        "id": "snjjOiKBAlWQ"
      },
      "source": [
        "##Data Assesing"
      ]
    },
    {
      "cell_type": "markdown",
      "metadata": {
        "id": "dZCBQhsrAnza"
      },
      "source": [
        "###Customers Dataframe"
      ]
    },
    {
      "cell_type": "code",
      "execution_count": 23,
      "metadata": {
        "colab": {
          "base_uri": "https://localhost:8080/",
          "height": 630
        },
        "id": "DtlhVwC_AxJA",
        "outputId": "292886fc-a962-4df2-e573-5934a4357d9c"
      },
      "outputs": [
        {
          "name": "stdout",
          "output_type": "stream",
          "text": [
            "<class 'pandas.core.frame.DataFrame'>\n",
            "RangeIndex: 99441 entries, 0 to 99440\n",
            "Data columns (total 5 columns):\n",
            " #   Column                    Non-Null Count  Dtype \n",
            "---  ------                    --------------  ----- \n",
            " 0   customer_id               99441 non-null  object\n",
            " 1   customer_unique_id        99441 non-null  object\n",
            " 2   customer_zip_code_prefix  99441 non-null  int64 \n",
            " 3   customer_city             99441 non-null  object\n",
            " 4   customer_state            99441 non-null  object\n",
            "dtypes: int64(1), object(4)\n",
            "memory usage: 3.8+ MB\n",
            "customer_id                 0\n",
            "customer_unique_id          0\n",
            "customer_zip_code_prefix    0\n",
            "customer_city               0\n",
            "customer_state              0\n",
            "dtype: int64\n",
            "Duplicated Values: 0\n"
          ]
        },
        {
          "data": {
            "text/html": [
              "<div>\n",
              "<style scoped>\n",
              "    .dataframe tbody tr th:only-of-type {\n",
              "        vertical-align: middle;\n",
              "    }\n",
              "\n",
              "    .dataframe tbody tr th {\n",
              "        vertical-align: top;\n",
              "    }\n",
              "\n",
              "    .dataframe thead th {\n",
              "        text-align: right;\n",
              "    }\n",
              "</style>\n",
              "<table border=\"1\" class=\"dataframe\">\n",
              "  <thead>\n",
              "    <tr style=\"text-align: right;\">\n",
              "      <th></th>\n",
              "      <th>customer_zip_code_prefix</th>\n",
              "    </tr>\n",
              "  </thead>\n",
              "  <tbody>\n",
              "    <tr>\n",
              "      <th>count</th>\n",
              "      <td>99441.000000</td>\n",
              "    </tr>\n",
              "    <tr>\n",
              "      <th>mean</th>\n",
              "      <td>35137.474583</td>\n",
              "    </tr>\n",
              "    <tr>\n",
              "      <th>std</th>\n",
              "      <td>29797.938996</td>\n",
              "    </tr>\n",
              "    <tr>\n",
              "      <th>min</th>\n",
              "      <td>1003.000000</td>\n",
              "    </tr>\n",
              "    <tr>\n",
              "      <th>25%</th>\n",
              "      <td>11347.000000</td>\n",
              "    </tr>\n",
              "    <tr>\n",
              "      <th>50%</th>\n",
              "      <td>24416.000000</td>\n",
              "    </tr>\n",
              "    <tr>\n",
              "      <th>75%</th>\n",
              "      <td>58900.000000</td>\n",
              "    </tr>\n",
              "    <tr>\n",
              "      <th>max</th>\n",
              "      <td>99990.000000</td>\n",
              "    </tr>\n",
              "  </tbody>\n",
              "</table>\n",
              "</div>"
            ],
            "text/plain": [
              "       customer_zip_code_prefix\n",
              "count              99441.000000\n",
              "mean               35137.474583\n",
              "std                29797.938996\n",
              "min                 1003.000000\n",
              "25%                11347.000000\n",
              "50%                24416.000000\n",
              "75%                58900.000000\n",
              "max                99990.000000"
            ]
          },
          "execution_count": 23,
          "metadata": {},
          "output_type": "execute_result"
        }
      ],
      "source": [
        "customers_df.info()\n",
        "print(customers_df.isna().sum())\n",
        "print(\"Duplicated Values:\", customers_df.duplicated().sum())\n",
        "customers_df.describe()"
      ]
    },
    {
      "cell_type": "markdown",
      "metadata": {
        "id": "_CvqW0wc2d-b"
      },
      "source": [
        "Data terlihat baik baik saja"
      ]
    },
    {
      "cell_type": "markdown",
      "metadata": {
        "id": "6QC-V3p2Brjj"
      },
      "source": [
        "###Geolocation Dataframe"
      ]
    },
    {
      "cell_type": "code",
      "execution_count": 24,
      "metadata": {
        "colab": {
          "base_uri": "https://localhost:8080/",
          "height": 630
        },
        "id": "-lvzR5gIBiUm",
        "outputId": "47c31f8b-2683-407a-9a2f-c925b937d38d"
      },
      "outputs": [
        {
          "name": "stdout",
          "output_type": "stream",
          "text": [
            "<class 'pandas.core.frame.DataFrame'>\n",
            "RangeIndex: 1000163 entries, 0 to 1000162\n",
            "Data columns (total 5 columns):\n",
            " #   Column                       Non-Null Count    Dtype  \n",
            "---  ------                       --------------    -----  \n",
            " 0   geolocation_zip_code_prefix  1000163 non-null  int64  \n",
            " 1   geolocation_lat              1000163 non-null  float64\n",
            " 2   geolocation_lng              1000163 non-null  float64\n",
            " 3   geolocation_city             1000163 non-null  object \n",
            " 4   geolocation_state            1000163 non-null  object \n",
            "dtypes: float64(2), int64(1), object(2)\n",
            "memory usage: 38.2+ MB\n",
            "geolocation_zip_code_prefix    0\n",
            "geolocation_lat                0\n",
            "geolocation_lng                0\n",
            "geolocation_city               0\n",
            "geolocation_state              0\n",
            "dtype: int64\n"
          ]
        },
        {
          "name": "stdout",
          "output_type": "stream",
          "text": [
            "Duplicated Values: 261831\n"
          ]
        },
        {
          "data": {
            "text/html": [
              "<div>\n",
              "<style scoped>\n",
              "    .dataframe tbody tr th:only-of-type {\n",
              "        vertical-align: middle;\n",
              "    }\n",
              "\n",
              "    .dataframe tbody tr th {\n",
              "        vertical-align: top;\n",
              "    }\n",
              "\n",
              "    .dataframe thead th {\n",
              "        text-align: right;\n",
              "    }\n",
              "</style>\n",
              "<table border=\"1\" class=\"dataframe\">\n",
              "  <thead>\n",
              "    <tr style=\"text-align: right;\">\n",
              "      <th></th>\n",
              "      <th>geolocation_zip_code_prefix</th>\n",
              "      <th>geolocation_lat</th>\n",
              "      <th>geolocation_lng</th>\n",
              "    </tr>\n",
              "  </thead>\n",
              "  <tbody>\n",
              "    <tr>\n",
              "      <th>count</th>\n",
              "      <td>1.000163e+06</td>\n",
              "      <td>1.000163e+06</td>\n",
              "      <td>1.000163e+06</td>\n",
              "    </tr>\n",
              "    <tr>\n",
              "      <th>mean</th>\n",
              "      <td>3.657417e+04</td>\n",
              "      <td>-2.117615e+01</td>\n",
              "      <td>-4.639054e+01</td>\n",
              "    </tr>\n",
              "    <tr>\n",
              "      <th>std</th>\n",
              "      <td>3.054934e+04</td>\n",
              "      <td>5.715866e+00</td>\n",
              "      <td>4.269748e+00</td>\n",
              "    </tr>\n",
              "    <tr>\n",
              "      <th>min</th>\n",
              "      <td>1.001000e+03</td>\n",
              "      <td>-3.660537e+01</td>\n",
              "      <td>-1.014668e+02</td>\n",
              "    </tr>\n",
              "    <tr>\n",
              "      <th>25%</th>\n",
              "      <td>1.107500e+04</td>\n",
              "      <td>-2.360355e+01</td>\n",
              "      <td>-4.857317e+01</td>\n",
              "    </tr>\n",
              "    <tr>\n",
              "      <th>50%</th>\n",
              "      <td>2.653000e+04</td>\n",
              "      <td>-2.291938e+01</td>\n",
              "      <td>-4.663788e+01</td>\n",
              "    </tr>\n",
              "    <tr>\n",
              "      <th>75%</th>\n",
              "      <td>6.350400e+04</td>\n",
              "      <td>-1.997962e+01</td>\n",
              "      <td>-4.376771e+01</td>\n",
              "    </tr>\n",
              "    <tr>\n",
              "      <th>max</th>\n",
              "      <td>9.999000e+04</td>\n",
              "      <td>4.506593e+01</td>\n",
              "      <td>1.211054e+02</td>\n",
              "    </tr>\n",
              "  </tbody>\n",
              "</table>\n",
              "</div>"
            ],
            "text/plain": [
              "       geolocation_zip_code_prefix  geolocation_lat  geolocation_lng\n",
              "count                 1.000163e+06     1.000163e+06     1.000163e+06\n",
              "mean                  3.657417e+04    -2.117615e+01    -4.639054e+01\n",
              "std                   3.054934e+04     5.715866e+00     4.269748e+00\n",
              "min                   1.001000e+03    -3.660537e+01    -1.014668e+02\n",
              "25%                   1.107500e+04    -2.360355e+01    -4.857317e+01\n",
              "50%                   2.653000e+04    -2.291938e+01    -4.663788e+01\n",
              "75%                   6.350400e+04    -1.997962e+01    -4.376771e+01\n",
              "max                   9.999000e+04     4.506593e+01     1.211054e+02"
            ]
          },
          "execution_count": 24,
          "metadata": {},
          "output_type": "execute_result"
        }
      ],
      "source": [
        "geolocation_df.info()\n",
        "print(geolocation_df.isna().sum())\n",
        "print(\"Duplicated Values:\", geolocation_df.duplicated().sum())\n",
        "geolocation_df.describe()"
      ]
    },
    {
      "cell_type": "markdown",
      "metadata": {
        "id": "OAdXAOy92rmK"
      },
      "source": [
        "Terdapat 261831 data yang duplikat"
      ]
    },
    {
      "cell_type": "markdown",
      "metadata": {
        "id": "PA6rBocFEg3H"
      },
      "source": [
        "###Order Items Dataframe"
      ]
    },
    {
      "cell_type": "code",
      "execution_count": 25,
      "metadata": {
        "colab": {
          "base_uri": "https://localhost:8080/",
          "height": 700
        },
        "id": "YNbPBAGJE0k5",
        "outputId": "a043ebaf-f39e-44c7-9d15-ef16e85b3d9f"
      },
      "outputs": [
        {
          "name": "stdout",
          "output_type": "stream",
          "text": [
            "<class 'pandas.core.frame.DataFrame'>\n",
            "RangeIndex: 112650 entries, 0 to 112649\n",
            "Data columns (total 7 columns):\n",
            " #   Column               Non-Null Count   Dtype  \n",
            "---  ------               --------------   -----  \n",
            " 0   order_id             112650 non-null  object \n",
            " 1   order_item_id        112650 non-null  int64  \n",
            " 2   product_id           112650 non-null  object \n",
            " 3   seller_id            112650 non-null  object \n",
            " 4   shipping_limit_date  112650 non-null  object \n",
            " 5   price                112650 non-null  float64\n",
            " 6   freight_value        112650 non-null  float64\n",
            "dtypes: float64(2), int64(1), object(4)\n",
            "memory usage: 6.0+ MB\n",
            "order_id               0\n",
            "order_item_id          0\n",
            "product_id             0\n",
            "seller_id              0\n",
            "shipping_limit_date    0\n",
            "price                  0\n",
            "freight_value          0\n",
            "dtype: int64\n"
          ]
        },
        {
          "name": "stdout",
          "output_type": "stream",
          "text": [
            "Duplicated Values: 0\n"
          ]
        },
        {
          "data": {
            "text/html": [
              "<div>\n",
              "<style scoped>\n",
              "    .dataframe tbody tr th:only-of-type {\n",
              "        vertical-align: middle;\n",
              "    }\n",
              "\n",
              "    .dataframe tbody tr th {\n",
              "        vertical-align: top;\n",
              "    }\n",
              "\n",
              "    .dataframe thead th {\n",
              "        text-align: right;\n",
              "    }\n",
              "</style>\n",
              "<table border=\"1\" class=\"dataframe\">\n",
              "  <thead>\n",
              "    <tr style=\"text-align: right;\">\n",
              "      <th></th>\n",
              "      <th>order_item_id</th>\n",
              "      <th>price</th>\n",
              "      <th>freight_value</th>\n",
              "    </tr>\n",
              "  </thead>\n",
              "  <tbody>\n",
              "    <tr>\n",
              "      <th>count</th>\n",
              "      <td>112650.000000</td>\n",
              "      <td>112650.000000</td>\n",
              "      <td>112650.000000</td>\n",
              "    </tr>\n",
              "    <tr>\n",
              "      <th>mean</th>\n",
              "      <td>1.197834</td>\n",
              "      <td>120.653739</td>\n",
              "      <td>19.990320</td>\n",
              "    </tr>\n",
              "    <tr>\n",
              "      <th>std</th>\n",
              "      <td>0.705124</td>\n",
              "      <td>183.633928</td>\n",
              "      <td>15.806405</td>\n",
              "    </tr>\n",
              "    <tr>\n",
              "      <th>min</th>\n",
              "      <td>1.000000</td>\n",
              "      <td>0.850000</td>\n",
              "      <td>0.000000</td>\n",
              "    </tr>\n",
              "    <tr>\n",
              "      <th>25%</th>\n",
              "      <td>1.000000</td>\n",
              "      <td>39.900000</td>\n",
              "      <td>13.080000</td>\n",
              "    </tr>\n",
              "    <tr>\n",
              "      <th>50%</th>\n",
              "      <td>1.000000</td>\n",
              "      <td>74.990000</td>\n",
              "      <td>16.260000</td>\n",
              "    </tr>\n",
              "    <tr>\n",
              "      <th>75%</th>\n",
              "      <td>1.000000</td>\n",
              "      <td>134.900000</td>\n",
              "      <td>21.150000</td>\n",
              "    </tr>\n",
              "    <tr>\n",
              "      <th>max</th>\n",
              "      <td>21.000000</td>\n",
              "      <td>6735.000000</td>\n",
              "      <td>409.680000</td>\n",
              "    </tr>\n",
              "  </tbody>\n",
              "</table>\n",
              "</div>"
            ],
            "text/plain": [
              "       order_item_id          price  freight_value\n",
              "count  112650.000000  112650.000000  112650.000000\n",
              "mean        1.197834     120.653739      19.990320\n",
              "std         0.705124     183.633928      15.806405\n",
              "min         1.000000       0.850000       0.000000\n",
              "25%         1.000000      39.900000      13.080000\n",
              "50%         1.000000      74.990000      16.260000\n",
              "75%         1.000000     134.900000      21.150000\n",
              "max        21.000000    6735.000000     409.680000"
            ]
          },
          "execution_count": 25,
          "metadata": {},
          "output_type": "execute_result"
        }
      ],
      "source": [
        "order_items_df.info()\n",
        "print(order_items_df.isna().sum())\n",
        "print(\"Duplicated Values:\", order_items_df.duplicated().sum())\n",
        "order_items_df.describe()"
      ]
    },
    {
      "cell_type": "markdown",
      "metadata": {
        "id": "Dcw9TH8nEmuM"
      },
      "source": [
        "###Order Payments Dataframe"
      ]
    },
    {
      "cell_type": "code",
      "execution_count": 26,
      "metadata": {
        "colab": {
          "base_uri": "https://localhost:8080/",
          "height": 630
        },
        "id": "fHDS8pVcE_R0",
        "outputId": "f20a4096-9297-47f1-cda6-74dd3932b21d"
      },
      "outputs": [
        {
          "name": "stdout",
          "output_type": "stream",
          "text": [
            "<class 'pandas.core.frame.DataFrame'>\n",
            "RangeIndex: 103886 entries, 0 to 103885\n",
            "Data columns (total 5 columns):\n",
            " #   Column                Non-Null Count   Dtype  \n",
            "---  ------                --------------   -----  \n",
            " 0   order_id              103886 non-null  object \n",
            " 1   payment_sequential    103886 non-null  int64  \n",
            " 2   payment_type          103886 non-null  object \n",
            " 3   payment_installments  103886 non-null  int64  \n",
            " 4   payment_value         103886 non-null  float64\n",
            "dtypes: float64(1), int64(2), object(2)\n",
            "memory usage: 4.0+ MB\n",
            "order_id                0\n",
            "payment_sequential      0\n",
            "payment_type            0\n",
            "payment_installments    0\n",
            "payment_value           0\n",
            "dtype: int64\n",
            "Duplicated Values: 0\n"
          ]
        },
        {
          "data": {
            "text/html": [
              "<div>\n",
              "<style scoped>\n",
              "    .dataframe tbody tr th:only-of-type {\n",
              "        vertical-align: middle;\n",
              "    }\n",
              "\n",
              "    .dataframe tbody tr th {\n",
              "        vertical-align: top;\n",
              "    }\n",
              "\n",
              "    .dataframe thead th {\n",
              "        text-align: right;\n",
              "    }\n",
              "</style>\n",
              "<table border=\"1\" class=\"dataframe\">\n",
              "  <thead>\n",
              "    <tr style=\"text-align: right;\">\n",
              "      <th></th>\n",
              "      <th>payment_sequential</th>\n",
              "      <th>payment_installments</th>\n",
              "      <th>payment_value</th>\n",
              "    </tr>\n",
              "  </thead>\n",
              "  <tbody>\n",
              "    <tr>\n",
              "      <th>count</th>\n",
              "      <td>103886.000000</td>\n",
              "      <td>103886.000000</td>\n",
              "      <td>103886.000000</td>\n",
              "    </tr>\n",
              "    <tr>\n",
              "      <th>mean</th>\n",
              "      <td>1.092679</td>\n",
              "      <td>2.853349</td>\n",
              "      <td>154.100380</td>\n",
              "    </tr>\n",
              "    <tr>\n",
              "      <th>std</th>\n",
              "      <td>0.706584</td>\n",
              "      <td>2.687051</td>\n",
              "      <td>217.494064</td>\n",
              "    </tr>\n",
              "    <tr>\n",
              "      <th>min</th>\n",
              "      <td>1.000000</td>\n",
              "      <td>0.000000</td>\n",
              "      <td>0.000000</td>\n",
              "    </tr>\n",
              "    <tr>\n",
              "      <th>25%</th>\n",
              "      <td>1.000000</td>\n",
              "      <td>1.000000</td>\n",
              "      <td>56.790000</td>\n",
              "    </tr>\n",
              "    <tr>\n",
              "      <th>50%</th>\n",
              "      <td>1.000000</td>\n",
              "      <td>1.000000</td>\n",
              "      <td>100.000000</td>\n",
              "    </tr>\n",
              "    <tr>\n",
              "      <th>75%</th>\n",
              "      <td>1.000000</td>\n",
              "      <td>4.000000</td>\n",
              "      <td>171.837500</td>\n",
              "    </tr>\n",
              "    <tr>\n",
              "      <th>max</th>\n",
              "      <td>29.000000</td>\n",
              "      <td>24.000000</td>\n",
              "      <td>13664.080000</td>\n",
              "    </tr>\n",
              "  </tbody>\n",
              "</table>\n",
              "</div>"
            ],
            "text/plain": [
              "       payment_sequential  payment_installments  payment_value\n",
              "count       103886.000000         103886.000000  103886.000000\n",
              "mean             1.092679              2.853349     154.100380\n",
              "std              0.706584              2.687051     217.494064\n",
              "min              1.000000              0.000000       0.000000\n",
              "25%              1.000000              1.000000      56.790000\n",
              "50%              1.000000              1.000000     100.000000\n",
              "75%              1.000000              4.000000     171.837500\n",
              "max             29.000000             24.000000   13664.080000"
            ]
          },
          "execution_count": 26,
          "metadata": {},
          "output_type": "execute_result"
        }
      ],
      "source": [
        "order_payments_df.info()\n",
        "print(order_payments_df.isna().sum())\n",
        "print(\"Duplicated Values:\", order_payments_df.duplicated().sum())\n",
        "order_payments_df.describe()"
      ]
    },
    {
      "cell_type": "markdown",
      "metadata": {
        "id": "Pfgkm8MPEpX3"
      },
      "source": [
        "###Order Reviews Dataframe"
      ]
    },
    {
      "cell_type": "code",
      "execution_count": 27,
      "metadata": {
        "colab": {
          "base_uri": "https://localhost:8080/",
          "height": 700
        },
        "id": "iBg5_Qt-FJli",
        "outputId": "a7e99fa2-7a0a-49d5-fa63-c49a9cf098e2"
      },
      "outputs": [
        {
          "name": "stdout",
          "output_type": "stream",
          "text": [
            "<class 'pandas.core.frame.DataFrame'>\n",
            "RangeIndex: 99224 entries, 0 to 99223\n",
            "Data columns (total 7 columns):\n",
            " #   Column                   Non-Null Count  Dtype \n",
            "---  ------                   --------------  ----- \n",
            " 0   review_id                99224 non-null  object\n",
            " 1   order_id                 99224 non-null  object\n",
            " 2   review_score             99224 non-null  int64 \n",
            " 3   review_comment_title     11568 non-null  object\n",
            " 4   review_comment_message   40977 non-null  object\n",
            " 5   review_creation_date     99224 non-null  object\n",
            " 6   review_answer_timestamp  99224 non-null  object\n",
            "dtypes: int64(1), object(6)\n",
            "memory usage: 5.3+ MB\n",
            "review_id                      0\n",
            "order_id                       0\n",
            "review_score                   0\n",
            "review_comment_title       87656\n",
            "review_comment_message     58247\n",
            "review_creation_date           0\n",
            "review_answer_timestamp        0\n",
            "dtype: int64\n",
            "Duplicated Values: 0\n"
          ]
        },
        {
          "data": {
            "text/html": [
              "<div>\n",
              "<style scoped>\n",
              "    .dataframe tbody tr th:only-of-type {\n",
              "        vertical-align: middle;\n",
              "    }\n",
              "\n",
              "    .dataframe tbody tr th {\n",
              "        vertical-align: top;\n",
              "    }\n",
              "\n",
              "    .dataframe thead th {\n",
              "        text-align: right;\n",
              "    }\n",
              "</style>\n",
              "<table border=\"1\" class=\"dataframe\">\n",
              "  <thead>\n",
              "    <tr style=\"text-align: right;\">\n",
              "      <th></th>\n",
              "      <th>review_score</th>\n",
              "    </tr>\n",
              "  </thead>\n",
              "  <tbody>\n",
              "    <tr>\n",
              "      <th>count</th>\n",
              "      <td>99224.000000</td>\n",
              "    </tr>\n",
              "    <tr>\n",
              "      <th>mean</th>\n",
              "      <td>4.086421</td>\n",
              "    </tr>\n",
              "    <tr>\n",
              "      <th>std</th>\n",
              "      <td>1.347579</td>\n",
              "    </tr>\n",
              "    <tr>\n",
              "      <th>min</th>\n",
              "      <td>1.000000</td>\n",
              "    </tr>\n",
              "    <tr>\n",
              "      <th>25%</th>\n",
              "      <td>4.000000</td>\n",
              "    </tr>\n",
              "    <tr>\n",
              "      <th>50%</th>\n",
              "      <td>5.000000</td>\n",
              "    </tr>\n",
              "    <tr>\n",
              "      <th>75%</th>\n",
              "      <td>5.000000</td>\n",
              "    </tr>\n",
              "    <tr>\n",
              "      <th>max</th>\n",
              "      <td>5.000000</td>\n",
              "    </tr>\n",
              "  </tbody>\n",
              "</table>\n",
              "</div>"
            ],
            "text/plain": [
              "       review_score\n",
              "count  99224.000000\n",
              "mean       4.086421\n",
              "std        1.347579\n",
              "min        1.000000\n",
              "25%        4.000000\n",
              "50%        5.000000\n",
              "75%        5.000000\n",
              "max        5.000000"
            ]
          },
          "execution_count": 27,
          "metadata": {},
          "output_type": "execute_result"
        }
      ],
      "source": [
        "order_reviews_df.info()\n",
        "print(order_reviews_df.isna().sum())\n",
        "print(\"Duplicated Values:\", order_reviews_df.duplicated().sum())\n",
        "order_reviews_df.describe()"
      ]
    },
    {
      "cell_type": "markdown",
      "metadata": {
        "id": "Q1_RPHtp29g-"
      },
      "source": [
        "Terdapat 87656 data di kolom \"review_comment_title\" dan 58247 data di kolom \"review_comment_message\" yang missing"
      ]
    },
    {
      "cell_type": "markdown",
      "metadata": {
        "id": "nVs1RybWErps"
      },
      "source": [
        "###Orders Dataframe"
      ]
    },
    {
      "cell_type": "code",
      "execution_count": 28,
      "metadata": {
        "colab": {
          "base_uri": "https://localhost:8080/",
          "height": 609
        },
        "id": "hN6gGiDVFVD9",
        "outputId": "c4d48eb0-dd92-476c-fc11-fc26a060c0d4"
      },
      "outputs": [
        {
          "name": "stdout",
          "output_type": "stream",
          "text": [
            "<class 'pandas.core.frame.DataFrame'>\n",
            "RangeIndex: 99441 entries, 0 to 99440\n",
            "Data columns (total 8 columns):\n",
            " #   Column                         Non-Null Count  Dtype \n",
            "---  ------                         --------------  ----- \n",
            " 0   order_id                       99441 non-null  object\n",
            " 1   customer_id                    99441 non-null  object\n",
            " 2   order_status                   99441 non-null  object\n",
            " 3   order_purchase_timestamp       99441 non-null  object\n",
            " 4   order_approved_at              99281 non-null  object\n",
            " 5   order_delivered_carrier_date   97658 non-null  object\n",
            " 6   order_delivered_customer_date  96476 non-null  object\n",
            " 7   order_estimated_delivery_date  99441 non-null  object\n",
            "dtypes: object(8)\n",
            "memory usage: 6.1+ MB\n",
            "order_id                            0\n",
            "customer_id                         0\n",
            "order_status                        0\n",
            "order_purchase_timestamp            0\n",
            "order_approved_at                 160\n",
            "order_delivered_carrier_date     1783\n",
            "order_delivered_customer_date    2965\n",
            "order_estimated_delivery_date       0\n",
            "dtype: int64\n"
          ]
        },
        {
          "name": "stdout",
          "output_type": "stream",
          "text": [
            "Duplicated Values: 0\n"
          ]
        },
        {
          "data": {
            "text/html": [
              "<div>\n",
              "<style scoped>\n",
              "    .dataframe tbody tr th:only-of-type {\n",
              "        vertical-align: middle;\n",
              "    }\n",
              "\n",
              "    .dataframe tbody tr th {\n",
              "        vertical-align: top;\n",
              "    }\n",
              "\n",
              "    .dataframe thead th {\n",
              "        text-align: right;\n",
              "    }\n",
              "</style>\n",
              "<table border=\"1\" class=\"dataframe\">\n",
              "  <thead>\n",
              "    <tr style=\"text-align: right;\">\n",
              "      <th></th>\n",
              "      <th>order_id</th>\n",
              "      <th>customer_id</th>\n",
              "      <th>order_status</th>\n",
              "      <th>order_purchase_timestamp</th>\n",
              "      <th>order_approved_at</th>\n",
              "      <th>order_delivered_carrier_date</th>\n",
              "      <th>order_delivered_customer_date</th>\n",
              "      <th>order_estimated_delivery_date</th>\n",
              "    </tr>\n",
              "  </thead>\n",
              "  <tbody>\n",
              "    <tr>\n",
              "      <th>count</th>\n",
              "      <td>99441</td>\n",
              "      <td>99441</td>\n",
              "      <td>99441</td>\n",
              "      <td>99441</td>\n",
              "      <td>99281</td>\n",
              "      <td>97658</td>\n",
              "      <td>96476</td>\n",
              "      <td>99441</td>\n",
              "    </tr>\n",
              "    <tr>\n",
              "      <th>unique</th>\n",
              "      <td>99441</td>\n",
              "      <td>99441</td>\n",
              "      <td>8</td>\n",
              "      <td>98875</td>\n",
              "      <td>90733</td>\n",
              "      <td>81018</td>\n",
              "      <td>95664</td>\n",
              "      <td>459</td>\n",
              "    </tr>\n",
              "    <tr>\n",
              "      <th>top</th>\n",
              "      <td>e481f51cbdc54678b7cc49136f2d6af7</td>\n",
              "      <td>9ef432eb6251297304e76186b10a928d</td>\n",
              "      <td>delivered</td>\n",
              "      <td>2018-04-11 10:48:14</td>\n",
              "      <td>2018-02-27 04:31:10</td>\n",
              "      <td>2018-05-09 15:48:00</td>\n",
              "      <td>2018-05-08 23:38:46</td>\n",
              "      <td>2017-12-20 00:00:00</td>\n",
              "    </tr>\n",
              "    <tr>\n",
              "      <th>freq</th>\n",
              "      <td>1</td>\n",
              "      <td>1</td>\n",
              "      <td>96478</td>\n",
              "      <td>3</td>\n",
              "      <td>9</td>\n",
              "      <td>47</td>\n",
              "      <td>3</td>\n",
              "      <td>522</td>\n",
              "    </tr>\n",
              "  </tbody>\n",
              "</table>\n",
              "</div>"
            ],
            "text/plain": [
              "                                order_id                       customer_id  \\\n",
              "count                              99441                             99441   \n",
              "unique                             99441                             99441   \n",
              "top     e481f51cbdc54678b7cc49136f2d6af7  9ef432eb6251297304e76186b10a928d   \n",
              "freq                                   1                                 1   \n",
              "\n",
              "       order_status order_purchase_timestamp    order_approved_at  \\\n",
              "count         99441                    99441                99281   \n",
              "unique            8                    98875                90733   \n",
              "top       delivered      2018-04-11 10:48:14  2018-02-27 04:31:10   \n",
              "freq          96478                        3                    9   \n",
              "\n",
              "       order_delivered_carrier_date order_delivered_customer_date  \\\n",
              "count                         97658                         96476   \n",
              "unique                        81018                         95664   \n",
              "top             2018-05-09 15:48:00           2018-05-08 23:38:46   \n",
              "freq                             47                             3   \n",
              "\n",
              "       order_estimated_delivery_date  \n",
              "count                          99441  \n",
              "unique                           459  \n",
              "top              2017-12-20 00:00:00  \n",
              "freq                             522  "
            ]
          },
          "execution_count": 28,
          "metadata": {},
          "output_type": "execute_result"
        }
      ],
      "source": [
        "orders_df.info()\n",
        "print(orders_df.isna().sum())\n",
        "print(\"Duplicated Values:\", orders_df.duplicated().sum())\n",
        "orders_df.describe()"
      ]
    },
    {
      "cell_type": "markdown",
      "metadata": {
        "id": "uC1286rmJ1a6"
      },
      "source": [
        "Terdapat 160 data \"order_approved_at\", 1783 data \"order_delivered_carrier_date\", dan 2965 data \"order_delivered_customer_date\" yang missing"
      ]
    },
    {
      "cell_type": "code",
      "execution_count": 29,
      "metadata": {
        "colab": {
          "base_uri": "https://localhost:8080/"
        },
        "id": "PVhX5STsfcYX",
        "outputId": "1cc303d5-9683-401e-e91a-00ff674ab9f9"
      },
      "outputs": [
        {
          "data": {
            "text/plain": [
              "order_status\n",
              "delivered      96478\n",
              "shipped         1107\n",
              "canceled         625\n",
              "unavailable      609\n",
              "invoiced         314\n",
              "processing       301\n",
              "created            5\n",
              "approved           2\n",
              "Name: count, dtype: int64"
            ]
          },
          "execution_count": 29,
          "metadata": {},
          "output_type": "execute_result"
        }
      ],
      "source": [
        "orders_df.order_status.value_counts()"
      ]
    },
    {
      "cell_type": "markdown",
      "metadata": {
        "id": "UlmhpZlhEt_a"
      },
      "source": [
        "###Product Category Dataframe"
      ]
    },
    {
      "cell_type": "code",
      "execution_count": 30,
      "metadata": {
        "colab": {
          "base_uri": "https://localhost:8080/",
          "height": 401
        },
        "id": "svD7z3RQGwrE",
        "outputId": "0d0da1e1-b170-469c-e1ae-80f10908cc1e"
      },
      "outputs": [
        {
          "name": "stdout",
          "output_type": "stream",
          "text": [
            "<class 'pandas.core.frame.DataFrame'>\n",
            "RangeIndex: 71 entries, 0 to 70\n",
            "Data columns (total 2 columns):\n",
            " #   Column                         Non-Null Count  Dtype \n",
            "---  ------                         --------------  ----- \n",
            " 0   product_category_name          71 non-null     object\n",
            " 1   product_category_name_english  71 non-null     object\n",
            "dtypes: object(2)\n",
            "memory usage: 1.2+ KB\n",
            "product_category_name            0\n",
            "product_category_name_english    0\n",
            "dtype: int64\n",
            "Duplicated Values: 0\n"
          ]
        },
        {
          "data": {
            "text/html": [
              "<div>\n",
              "<style scoped>\n",
              "    .dataframe tbody tr th:only-of-type {\n",
              "        vertical-align: middle;\n",
              "    }\n",
              "\n",
              "    .dataframe tbody tr th {\n",
              "        vertical-align: top;\n",
              "    }\n",
              "\n",
              "    .dataframe thead th {\n",
              "        text-align: right;\n",
              "    }\n",
              "</style>\n",
              "<table border=\"1\" class=\"dataframe\">\n",
              "  <thead>\n",
              "    <tr style=\"text-align: right;\">\n",
              "      <th></th>\n",
              "      <th>product_category_name</th>\n",
              "      <th>product_category_name_english</th>\n",
              "    </tr>\n",
              "  </thead>\n",
              "  <tbody>\n",
              "    <tr>\n",
              "      <th>count</th>\n",
              "      <td>71</td>\n",
              "      <td>71</td>\n",
              "    </tr>\n",
              "    <tr>\n",
              "      <th>unique</th>\n",
              "      <td>71</td>\n",
              "      <td>71</td>\n",
              "    </tr>\n",
              "    <tr>\n",
              "      <th>top</th>\n",
              "      <td>beleza_saude</td>\n",
              "      <td>health_beauty</td>\n",
              "    </tr>\n",
              "    <tr>\n",
              "      <th>freq</th>\n",
              "      <td>1</td>\n",
              "      <td>1</td>\n",
              "    </tr>\n",
              "  </tbody>\n",
              "</table>\n",
              "</div>"
            ],
            "text/plain": [
              "       product_category_name product_category_name_english\n",
              "count                     71                            71\n",
              "unique                    71                            71\n",
              "top             beleza_saude                 health_beauty\n",
              "freq                       1                             1"
            ]
          },
          "execution_count": 30,
          "metadata": {},
          "output_type": "execute_result"
        }
      ],
      "source": [
        "product_category_df.info()\n",
        "print(product_category_df.isna().sum())\n",
        "print(\"Duplicated Values:\", product_category_df.duplicated().sum())\n",
        "product_category_df.describe()"
      ]
    },
    {
      "cell_type": "markdown",
      "metadata": {
        "id": "7K5twAyzEwQE"
      },
      "source": [
        "###Products Dataframe"
      ]
    },
    {
      "cell_type": "code",
      "execution_count": 31,
      "metadata": {
        "colab": {
          "base_uri": "https://localhost:8080/",
          "height": 769
        },
        "id": "K8rw3Lg_G91d",
        "outputId": "b21a1091-e531-4a60-90bf-4b3632bf7c11"
      },
      "outputs": [
        {
          "name": "stdout",
          "output_type": "stream",
          "text": [
            "<class 'pandas.core.frame.DataFrame'>\n",
            "RangeIndex: 32951 entries, 0 to 32950\n",
            "Data columns (total 9 columns):\n",
            " #   Column                      Non-Null Count  Dtype  \n",
            "---  ------                      --------------  -----  \n",
            " 0   product_id                  32951 non-null  object \n",
            " 1   product_category_name       32341 non-null  object \n",
            " 2   product_name_lenght         32341 non-null  float64\n",
            " 3   product_description_lenght  32341 non-null  float64\n",
            " 4   product_photos_qty          32341 non-null  float64\n",
            " 5   product_weight_g            32949 non-null  float64\n",
            " 6   product_length_cm           32949 non-null  float64\n",
            " 7   product_height_cm           32949 non-null  float64\n",
            " 8   product_width_cm            32949 non-null  float64\n",
            "dtypes: float64(7), object(2)\n",
            "memory usage: 2.3+ MB\n",
            "product_id                      0\n",
            "product_category_name         610\n",
            "product_name_lenght           610\n",
            "product_description_lenght    610\n",
            "product_photos_qty            610\n",
            "product_weight_g                2\n",
            "product_length_cm               2\n",
            "product_height_cm               2\n",
            "product_width_cm                2\n",
            "dtype: int64\n",
            "Duplicated Values: 0\n"
          ]
        },
        {
          "data": {
            "text/html": [
              "<div>\n",
              "<style scoped>\n",
              "    .dataframe tbody tr th:only-of-type {\n",
              "        vertical-align: middle;\n",
              "    }\n",
              "\n",
              "    .dataframe tbody tr th {\n",
              "        vertical-align: top;\n",
              "    }\n",
              "\n",
              "    .dataframe thead th {\n",
              "        text-align: right;\n",
              "    }\n",
              "</style>\n",
              "<table border=\"1\" class=\"dataframe\">\n",
              "  <thead>\n",
              "    <tr style=\"text-align: right;\">\n",
              "      <th></th>\n",
              "      <th>product_name_lenght</th>\n",
              "      <th>product_description_lenght</th>\n",
              "      <th>product_photos_qty</th>\n",
              "      <th>product_weight_g</th>\n",
              "      <th>product_length_cm</th>\n",
              "      <th>product_height_cm</th>\n",
              "      <th>product_width_cm</th>\n",
              "    </tr>\n",
              "  </thead>\n",
              "  <tbody>\n",
              "    <tr>\n",
              "      <th>count</th>\n",
              "      <td>32341.000000</td>\n",
              "      <td>32341.000000</td>\n",
              "      <td>32341.000000</td>\n",
              "      <td>32949.000000</td>\n",
              "      <td>32949.000000</td>\n",
              "      <td>32949.000000</td>\n",
              "      <td>32949.000000</td>\n",
              "    </tr>\n",
              "    <tr>\n",
              "      <th>mean</th>\n",
              "      <td>48.476949</td>\n",
              "      <td>771.495285</td>\n",
              "      <td>2.188986</td>\n",
              "      <td>2276.472488</td>\n",
              "      <td>30.815078</td>\n",
              "      <td>16.937661</td>\n",
              "      <td>23.196728</td>\n",
              "    </tr>\n",
              "    <tr>\n",
              "      <th>std</th>\n",
              "      <td>10.245741</td>\n",
              "      <td>635.115225</td>\n",
              "      <td>1.736766</td>\n",
              "      <td>4282.038731</td>\n",
              "      <td>16.914458</td>\n",
              "      <td>13.637554</td>\n",
              "      <td>12.079047</td>\n",
              "    </tr>\n",
              "    <tr>\n",
              "      <th>min</th>\n",
              "      <td>5.000000</td>\n",
              "      <td>4.000000</td>\n",
              "      <td>1.000000</td>\n",
              "      <td>0.000000</td>\n",
              "      <td>7.000000</td>\n",
              "      <td>2.000000</td>\n",
              "      <td>6.000000</td>\n",
              "    </tr>\n",
              "    <tr>\n",
              "      <th>25%</th>\n",
              "      <td>42.000000</td>\n",
              "      <td>339.000000</td>\n",
              "      <td>1.000000</td>\n",
              "      <td>300.000000</td>\n",
              "      <td>18.000000</td>\n",
              "      <td>8.000000</td>\n",
              "      <td>15.000000</td>\n",
              "    </tr>\n",
              "    <tr>\n",
              "      <th>50%</th>\n",
              "      <td>51.000000</td>\n",
              "      <td>595.000000</td>\n",
              "      <td>1.000000</td>\n",
              "      <td>700.000000</td>\n",
              "      <td>25.000000</td>\n",
              "      <td>13.000000</td>\n",
              "      <td>20.000000</td>\n",
              "    </tr>\n",
              "    <tr>\n",
              "      <th>75%</th>\n",
              "      <td>57.000000</td>\n",
              "      <td>972.000000</td>\n",
              "      <td>3.000000</td>\n",
              "      <td>1900.000000</td>\n",
              "      <td>38.000000</td>\n",
              "      <td>21.000000</td>\n",
              "      <td>30.000000</td>\n",
              "    </tr>\n",
              "    <tr>\n",
              "      <th>max</th>\n",
              "      <td>76.000000</td>\n",
              "      <td>3992.000000</td>\n",
              "      <td>20.000000</td>\n",
              "      <td>40425.000000</td>\n",
              "      <td>105.000000</td>\n",
              "      <td>105.000000</td>\n",
              "      <td>118.000000</td>\n",
              "    </tr>\n",
              "  </tbody>\n",
              "</table>\n",
              "</div>"
            ],
            "text/plain": [
              "       product_name_lenght  product_description_lenght  product_photos_qty  \\\n",
              "count         32341.000000                32341.000000        32341.000000   \n",
              "mean             48.476949                  771.495285            2.188986   \n",
              "std              10.245741                  635.115225            1.736766   \n",
              "min               5.000000                    4.000000            1.000000   \n",
              "25%              42.000000                  339.000000            1.000000   \n",
              "50%              51.000000                  595.000000            1.000000   \n",
              "75%              57.000000                  972.000000            3.000000   \n",
              "max              76.000000                 3992.000000           20.000000   \n",
              "\n",
              "       product_weight_g  product_length_cm  product_height_cm  \\\n",
              "count      32949.000000       32949.000000       32949.000000   \n",
              "mean        2276.472488          30.815078          16.937661   \n",
              "std         4282.038731          16.914458          13.637554   \n",
              "min            0.000000           7.000000           2.000000   \n",
              "25%          300.000000          18.000000           8.000000   \n",
              "50%          700.000000          25.000000          13.000000   \n",
              "75%         1900.000000          38.000000          21.000000   \n",
              "max        40425.000000         105.000000         105.000000   \n",
              "\n",
              "       product_width_cm  \n",
              "count      32949.000000  \n",
              "mean          23.196728  \n",
              "std           12.079047  \n",
              "min            6.000000  \n",
              "25%           15.000000  \n",
              "50%           20.000000  \n",
              "75%           30.000000  \n",
              "max          118.000000  "
            ]
          },
          "execution_count": 31,
          "metadata": {},
          "output_type": "execute_result"
        }
      ],
      "source": [
        "products_df.info()\n",
        "print(products_df.isna().sum())\n",
        "print(\"Duplicated Values:\", products_df.duplicated().sum())\n",
        "products_df.describe()"
      ]
    },
    {
      "cell_type": "markdown",
      "metadata": {
        "id": "_QILMLguJ25S"
      },
      "source": [
        "Terdapat 610 data \"product_category_name\", \"product_name_lenght\", \"product_description_lenght\", \"product_photos_qty\" yang missing dan 2 data \"product_weight_g\", \"product_length_cm\", \"product_height_cm\", \"product_width_cm\" yang missing"
      ]
    },
    {
      "cell_type": "markdown",
      "metadata": {
        "id": "qEwmcuJIEycT"
      },
      "source": [
        "###Sellers Dataframe"
      ]
    },
    {
      "cell_type": "code",
      "execution_count": 32,
      "metadata": {
        "colab": {
          "base_uri": "https://localhost:8080/",
          "height": 596
        },
        "id": "yAZbTWTcHE4w",
        "outputId": "8aafd1c8-923e-4351-bc54-208dd3683518"
      },
      "outputs": [
        {
          "name": "stdout",
          "output_type": "stream",
          "text": [
            "<class 'pandas.core.frame.DataFrame'>\n",
            "RangeIndex: 3095 entries, 0 to 3094\n",
            "Data columns (total 4 columns):\n",
            " #   Column                  Non-Null Count  Dtype \n",
            "---  ------                  --------------  ----- \n",
            " 0   seller_id               3095 non-null   object\n",
            " 1   seller_zip_code_prefix  3095 non-null   int64 \n",
            " 2   seller_city             3095 non-null   object\n",
            " 3   seller_state            3095 non-null   object\n",
            "dtypes: int64(1), object(3)\n",
            "memory usage: 96.8+ KB\n",
            "seller_id                 0\n",
            "seller_zip_code_prefix    0\n",
            "seller_city               0\n",
            "seller_state              0\n",
            "dtype: int64\n",
            "Duplicated Values: 0\n"
          ]
        },
        {
          "data": {
            "text/html": [
              "<div>\n",
              "<style scoped>\n",
              "    .dataframe tbody tr th:only-of-type {\n",
              "        vertical-align: middle;\n",
              "    }\n",
              "\n",
              "    .dataframe tbody tr th {\n",
              "        vertical-align: top;\n",
              "    }\n",
              "\n",
              "    .dataframe thead th {\n",
              "        text-align: right;\n",
              "    }\n",
              "</style>\n",
              "<table border=\"1\" class=\"dataframe\">\n",
              "  <thead>\n",
              "    <tr style=\"text-align: right;\">\n",
              "      <th></th>\n",
              "      <th>seller_zip_code_prefix</th>\n",
              "    </tr>\n",
              "  </thead>\n",
              "  <tbody>\n",
              "    <tr>\n",
              "      <th>count</th>\n",
              "      <td>3095.000000</td>\n",
              "    </tr>\n",
              "    <tr>\n",
              "      <th>mean</th>\n",
              "      <td>32291.059451</td>\n",
              "    </tr>\n",
              "    <tr>\n",
              "      <th>std</th>\n",
              "      <td>32713.453830</td>\n",
              "    </tr>\n",
              "    <tr>\n",
              "      <th>min</th>\n",
              "      <td>1001.000000</td>\n",
              "    </tr>\n",
              "    <tr>\n",
              "      <th>25%</th>\n",
              "      <td>7093.500000</td>\n",
              "    </tr>\n",
              "    <tr>\n",
              "      <th>50%</th>\n",
              "      <td>14940.000000</td>\n",
              "    </tr>\n",
              "    <tr>\n",
              "      <th>75%</th>\n",
              "      <td>64552.500000</td>\n",
              "    </tr>\n",
              "    <tr>\n",
              "      <th>max</th>\n",
              "      <td>99730.000000</td>\n",
              "    </tr>\n",
              "  </tbody>\n",
              "</table>\n",
              "</div>"
            ],
            "text/plain": [
              "       seller_zip_code_prefix\n",
              "count             3095.000000\n",
              "mean             32291.059451\n",
              "std              32713.453830\n",
              "min               1001.000000\n",
              "25%               7093.500000\n",
              "50%              14940.000000\n",
              "75%              64552.500000\n",
              "max              99730.000000"
            ]
          },
          "execution_count": 32,
          "metadata": {},
          "output_type": "execute_result"
        }
      ],
      "source": [
        "sellers_df.info()\n",
        "print(sellers_df.isna().sum())\n",
        "print(\"Duplicated Values:\", sellers_df.duplicated().sum())\n",
        "sellers_df.describe()"
      ]
    },
    {
      "cell_type": "markdown",
      "metadata": {
        "id": "ZWK26ysxNRS1"
      },
      "source": [
        "##Data Cleaning"
      ]
    },
    {
      "cell_type": "markdown",
      "metadata": {
        "id": "bDXEcTbCNgkq"
      },
      "source": [
        "###Geolocation Dataframe"
      ]
    },
    {
      "cell_type": "code",
      "execution_count": 33,
      "metadata": {
        "colab": {
          "base_uri": "https://localhost:8080/"
        },
        "id": "hRyL_xSxmhRu",
        "outputId": "ebf55f0c-856b-49b7-c90d-5791982cd2ab"
      },
      "outputs": [
        {
          "name": "stdout",
          "output_type": "stream",
          "text": [
            "Duplicated Values: 0\n"
          ]
        }
      ],
      "source": [
        "geolocation_df.drop_duplicates(inplace=True)\n",
        "\n",
        "print(\"Duplicated Values:\", geolocation_df.duplicated().sum())"
      ]
    },
    {
      "cell_type": "markdown",
      "metadata": {
        "id": "TCv25oGiNgkr"
      },
      "source": [
        "###Order Reviews Dataframe"
      ]
    },
    {
      "cell_type": "code",
      "execution_count": 34,
      "metadata": {
        "colab": {
          "base_uri": "https://localhost:8080/"
        },
        "id": "D33dX_-LD8BS",
        "outputId": "a0cebad0-862a-4a4b-a654-f8014cca61b2"
      },
      "outputs": [
        {
          "name": "stdout",
          "output_type": "stream",
          "text": [
            "<class 'pandas.core.frame.DataFrame'>\n",
            "RangeIndex: 99224 entries, 0 to 99223\n",
            "Data columns (total 7 columns):\n",
            " #   Column                   Non-Null Count  Dtype \n",
            "---  ------                   --------------  ----- \n",
            " 0   review_id                99224 non-null  object\n",
            " 1   order_id                 99224 non-null  object\n",
            " 2   review_score             99224 non-null  int64 \n",
            " 3   review_comment_title     99224 non-null  object\n",
            " 4   review_comment_message   99224 non-null  object\n",
            " 5   review_creation_date     99224 non-null  object\n",
            " 6   review_answer_timestamp  99224 non-null  object\n",
            "dtypes: int64(1), object(6)\n",
            "memory usage: 5.3+ MB\n"
          ]
        }
      ],
      "source": [
        "order_reviews_df.review_comment_title.fillna(value=\"No Title\", inplace=True)\n",
        "order_reviews_df.review_comment_message.fillna(value=\"No Title\", inplace=True)\n",
        "\n",
        "order_reviews_df.info()"
      ]
    },
    {
      "cell_type": "markdown",
      "metadata": {
        "id": "H5C3csxHNYZk"
      },
      "source": [
        "###Orders Dataframe"
      ]
    },
    {
      "cell_type": "code",
      "execution_count": 35,
      "metadata": {
        "id": "Aa-n4GuYNa3q"
      },
      "outputs": [],
      "source": [
        "orders_df.order_approved_at.fillna(value=\"Not Approved\", inplace=True)\n",
        "orders_df.order_delivered_carrier_date.fillna(value=\"Not Delivered to Carrier\", inplace=True)\n",
        "orders_df.order_delivered_customer_date.fillna(value=\"Not Delivered to Customer\", inplace=True)"
      ]
    },
    {
      "cell_type": "markdown",
      "metadata": {
        "id": "mJbhjALtNgkr"
      },
      "source": [
        "###Products Dataframe"
      ]
    },
    {
      "cell_type": "code",
      "execution_count": 36,
      "metadata": {
        "id": "214Hd82tPxjz"
      },
      "outputs": [],
      "source": [
        "subset=[\"product_name_lenght\"]\n",
        "\n",
        "products_df.dropna(subset=subset, inplace=True)"
      ]
    },
    {
      "cell_type": "code",
      "execution_count": 37,
      "metadata": {
        "colab": {
          "base_uri": "https://localhost:8080/"
        },
        "id": "8QjTQBhEnnvX",
        "outputId": "4821f32f-4fce-411e-bf30-f50a539b0ff9"
      },
      "outputs": [
        {
          "name": "stdout",
          "output_type": "stream",
          "text": [
            "<class 'pandas.core.frame.DataFrame'>\n",
            "Index: 32341 entries, 0 to 32950\n",
            "Data columns (total 9 columns):\n",
            " #   Column                      Non-Null Count  Dtype  \n",
            "---  ------                      --------------  -----  \n",
            " 0   product_id                  32341 non-null  object \n",
            " 1   product_category_name       32341 non-null  object \n",
            " 2   product_name_lenght         32341 non-null  float64\n",
            " 3   product_description_lenght  32341 non-null  float64\n",
            " 4   product_photos_qty          32341 non-null  float64\n",
            " 5   product_weight_g            32340 non-null  float64\n",
            " 6   product_length_cm           32340 non-null  float64\n",
            " 7   product_height_cm           32340 non-null  float64\n",
            " 8   product_width_cm            32340 non-null  float64\n",
            "dtypes: float64(7), object(2)\n",
            "memory usage: 2.5+ MB\n"
          ]
        }
      ],
      "source": [
        "products_df.info()"
      ]
    },
    {
      "cell_type": "code",
      "execution_count": 38,
      "metadata": {
        "id": "hRLI6mELRQXS"
      },
      "outputs": [],
      "source": [
        "products_df.product_weight_g.fillna(value=\"Unknown\", inplace=True)\n",
        "products_df.product_length_cm.fillna(value=\"Unknown\", inplace=True)\n",
        "products_df.product_height_cm.fillna(value=\"Unknown\", inplace=True)\n",
        "products_df.product_width_cm.fillna(value=\"Unknown\", inplace=True)"
      ]
    },
    {
      "cell_type": "code",
      "execution_count": 39,
      "metadata": {
        "colab": {
          "base_uri": "https://localhost:8080/"
        },
        "id": "CB_xeF3VuI7w",
        "outputId": "4dde72ea-ff31-428f-a908-de2abbb6f0a7"
      },
      "outputs": [
        {
          "name": "stdout",
          "output_type": "stream",
          "text": [
            "product_id                    0\n",
            "product_category_name         0\n",
            "product_name_lenght           0\n",
            "product_description_lenght    0\n",
            "product_photos_qty            0\n",
            "product_weight_g              0\n",
            "product_length_cm             0\n",
            "product_height_cm             0\n",
            "product_width_cm              0\n",
            "dtype: int64\n"
          ]
        }
      ],
      "source": [
        "print(products_df.isna().sum())"
      ]
    },
    {
      "cell_type": "markdown",
      "metadata": {
        "id": "Jq77SMF6fjkC"
      },
      "source": [
        "#Exploratory Data Analysis"
      ]
    },
    {
      "cell_type": "markdown",
      "metadata": {
        "id": "sRRUrh_BM-ie"
      },
      "source": [
        "##Order and Order Items Dataframe"
      ]
    },
    {
      "cell_type": "code",
      "execution_count": 40,
      "metadata": {
        "colab": {
          "base_uri": "https://localhost:8080/",
          "height": 226
        },
        "id": "BQae3fULKrCa",
        "outputId": "47f6c429-620c-4310-cc79-a9ad5ef1964e"
      },
      "outputs": [
        {
          "data": {
            "text/html": [
              "<div>\n",
              "<style scoped>\n",
              "    .dataframe tbody tr th:only-of-type {\n",
              "        vertical-align: middle;\n",
              "    }\n",
              "\n",
              "    .dataframe tbody tr th {\n",
              "        vertical-align: top;\n",
              "    }\n",
              "\n",
              "    .dataframe thead th {\n",
              "        text-align: right;\n",
              "    }\n",
              "</style>\n",
              "<table border=\"1\" class=\"dataframe\">\n",
              "  <thead>\n",
              "    <tr style=\"text-align: right;\">\n",
              "      <th></th>\n",
              "      <th>order_id</th>\n",
              "      <th>order_item_id</th>\n",
              "      <th>product_id</th>\n",
              "      <th>seller_id</th>\n",
              "      <th>shipping_limit_date</th>\n",
              "      <th>price</th>\n",
              "      <th>freight_value</th>\n",
              "      <th>customer_id</th>\n",
              "      <th>order_status</th>\n",
              "      <th>order_purchase_timestamp</th>\n",
              "      <th>order_approved_at</th>\n",
              "      <th>order_delivered_carrier_date</th>\n",
              "      <th>order_delivered_customer_date</th>\n",
              "      <th>order_estimated_delivery_date</th>\n",
              "    </tr>\n",
              "  </thead>\n",
              "  <tbody>\n",
              "    <tr>\n",
              "      <th>0</th>\n",
              "      <td>00010242fe8c5a6d1ba2dd792cb16214</td>\n",
              "      <td>1</td>\n",
              "      <td>4244733e06e7ecb4970a6e2683c13e61</td>\n",
              "      <td>48436dade18ac8b2bce089ec2a041202</td>\n",
              "      <td>2017-09-19 09:45:35</td>\n",
              "      <td>58.90</td>\n",
              "      <td>13.29</td>\n",
              "      <td>3ce436f183e68e07877b285a838db11a</td>\n",
              "      <td>delivered</td>\n",
              "      <td>2017-09-13 08:59:02</td>\n",
              "      <td>2017-09-13 09:45:35</td>\n",
              "      <td>2017-09-19 18:34:16</td>\n",
              "      <td>2017-09-20 23:43:48</td>\n",
              "      <td>2017-09-29 00:00:00</td>\n",
              "    </tr>\n",
              "    <tr>\n",
              "      <th>1</th>\n",
              "      <td>00018f77f2f0320c557190d7a144bdd3</td>\n",
              "      <td>1</td>\n",
              "      <td>e5f2d52b802189ee658865ca93d83a8f</td>\n",
              "      <td>dd7ddc04e1b6c2c614352b383efe2d36</td>\n",
              "      <td>2017-05-03 11:05:13</td>\n",
              "      <td>239.90</td>\n",
              "      <td>19.93</td>\n",
              "      <td>f6dd3ec061db4e3987629fe6b26e5cce</td>\n",
              "      <td>delivered</td>\n",
              "      <td>2017-04-26 10:53:06</td>\n",
              "      <td>2017-04-26 11:05:13</td>\n",
              "      <td>2017-05-04 14:35:00</td>\n",
              "      <td>2017-05-12 16:04:24</td>\n",
              "      <td>2017-05-15 00:00:00</td>\n",
              "    </tr>\n",
              "    <tr>\n",
              "      <th>2</th>\n",
              "      <td>000229ec398224ef6ca0657da4fc703e</td>\n",
              "      <td>1</td>\n",
              "      <td>c777355d18b72b67abbeef9df44fd0fd</td>\n",
              "      <td>5b51032eddd242adc84c38acab88f23d</td>\n",
              "      <td>2018-01-18 14:48:30</td>\n",
              "      <td>199.00</td>\n",
              "      <td>17.87</td>\n",
              "      <td>6489ae5e4333f3693df5ad4372dab6d3</td>\n",
              "      <td>delivered</td>\n",
              "      <td>2018-01-14 14:33:31</td>\n",
              "      <td>2018-01-14 14:48:30</td>\n",
              "      <td>2018-01-16 12:36:48</td>\n",
              "      <td>2018-01-22 13:19:16</td>\n",
              "      <td>2018-02-05 00:00:00</td>\n",
              "    </tr>\n",
              "    <tr>\n",
              "      <th>3</th>\n",
              "      <td>00024acbcdf0a6daa1e931b038114c75</td>\n",
              "      <td>1</td>\n",
              "      <td>7634da152a4610f1595efa32f14722fc</td>\n",
              "      <td>9d7a1d34a5052409006425275ba1c2b4</td>\n",
              "      <td>2018-08-15 10:10:18</td>\n",
              "      <td>12.99</td>\n",
              "      <td>12.79</td>\n",
              "      <td>d4eb9395c8c0431ee92fce09860c5a06</td>\n",
              "      <td>delivered</td>\n",
              "      <td>2018-08-08 10:00:35</td>\n",
              "      <td>2018-08-08 10:10:18</td>\n",
              "      <td>2018-08-10 13:28:00</td>\n",
              "      <td>2018-08-14 13:32:39</td>\n",
              "      <td>2018-08-20 00:00:00</td>\n",
              "    </tr>\n",
              "    <tr>\n",
              "      <th>4</th>\n",
              "      <td>00042b26cf59d7ce69dfabb4e55b4fd9</td>\n",
              "      <td>1</td>\n",
              "      <td>ac6c3623068f30de03045865e4e10089</td>\n",
              "      <td>df560393f3a51e74553ab94004ba5c87</td>\n",
              "      <td>2017-02-13 13:57:51</td>\n",
              "      <td>199.90</td>\n",
              "      <td>18.14</td>\n",
              "      <td>58dbd0b2d70206bf40e62cd34e84d795</td>\n",
              "      <td>delivered</td>\n",
              "      <td>2017-02-04 13:57:51</td>\n",
              "      <td>2017-02-04 14:10:13</td>\n",
              "      <td>2017-02-16 09:46:09</td>\n",
              "      <td>2017-03-01 16:42:31</td>\n",
              "      <td>2017-03-17 00:00:00</td>\n",
              "    </tr>\n",
              "  </tbody>\n",
              "</table>\n",
              "</div>"
            ],
            "text/plain": [
              "                           order_id  order_item_id  \\\n",
              "0  00010242fe8c5a6d1ba2dd792cb16214              1   \n",
              "1  00018f77f2f0320c557190d7a144bdd3              1   \n",
              "2  000229ec398224ef6ca0657da4fc703e              1   \n",
              "3  00024acbcdf0a6daa1e931b038114c75              1   \n",
              "4  00042b26cf59d7ce69dfabb4e55b4fd9              1   \n",
              "\n",
              "                         product_id                         seller_id  \\\n",
              "0  4244733e06e7ecb4970a6e2683c13e61  48436dade18ac8b2bce089ec2a041202   \n",
              "1  e5f2d52b802189ee658865ca93d83a8f  dd7ddc04e1b6c2c614352b383efe2d36   \n",
              "2  c777355d18b72b67abbeef9df44fd0fd  5b51032eddd242adc84c38acab88f23d   \n",
              "3  7634da152a4610f1595efa32f14722fc  9d7a1d34a5052409006425275ba1c2b4   \n",
              "4  ac6c3623068f30de03045865e4e10089  df560393f3a51e74553ab94004ba5c87   \n",
              "\n",
              "   shipping_limit_date   price  freight_value  \\\n",
              "0  2017-09-19 09:45:35   58.90          13.29   \n",
              "1  2017-05-03 11:05:13  239.90          19.93   \n",
              "2  2018-01-18 14:48:30  199.00          17.87   \n",
              "3  2018-08-15 10:10:18   12.99          12.79   \n",
              "4  2017-02-13 13:57:51  199.90          18.14   \n",
              "\n",
              "                        customer_id order_status order_purchase_timestamp  \\\n",
              "0  3ce436f183e68e07877b285a838db11a    delivered      2017-09-13 08:59:02   \n",
              "1  f6dd3ec061db4e3987629fe6b26e5cce    delivered      2017-04-26 10:53:06   \n",
              "2  6489ae5e4333f3693df5ad4372dab6d3    delivered      2018-01-14 14:33:31   \n",
              "3  d4eb9395c8c0431ee92fce09860c5a06    delivered      2018-08-08 10:00:35   \n",
              "4  58dbd0b2d70206bf40e62cd34e84d795    delivered      2017-02-04 13:57:51   \n",
              "\n",
              "     order_approved_at order_delivered_carrier_date  \\\n",
              "0  2017-09-13 09:45:35          2017-09-19 18:34:16   \n",
              "1  2017-04-26 11:05:13          2017-05-04 14:35:00   \n",
              "2  2018-01-14 14:48:30          2018-01-16 12:36:48   \n",
              "3  2018-08-08 10:10:18          2018-08-10 13:28:00   \n",
              "4  2017-02-04 14:10:13          2017-02-16 09:46:09   \n",
              "\n",
              "  order_delivered_customer_date order_estimated_delivery_date  \n",
              "0           2017-09-20 23:43:48           2017-09-29 00:00:00  \n",
              "1           2017-05-12 16:04:24           2017-05-15 00:00:00  \n",
              "2           2018-01-22 13:19:16           2018-02-05 00:00:00  \n",
              "3           2018-08-14 13:32:39           2018-08-20 00:00:00  \n",
              "4           2017-03-01 16:42:31           2017-03-17 00:00:00  "
            ]
          },
          "execution_count": 40,
          "metadata": {},
          "output_type": "execute_result"
        }
      ],
      "source": [
        "items_ordered_df = pd.merge(\n",
        "    left= order_items_df,\n",
        "    right= orders_df,\n",
        "    how=\"left\",\n",
        "    left_on=\"order_id\",\n",
        "    right_on=\"order_id\"\n",
        ")\n",
        "\n",
        "items_ordered_df.head()"
      ]
    },
    {
      "cell_type": "code",
      "execution_count": 41,
      "metadata": {
        "colab": {
          "base_uri": "https://localhost:8080/"
        },
        "id": "6vGeA3Oxea1I",
        "outputId": "790e8504-d9fb-4da2-c208-4971759c38ce"
      },
      "outputs": [
        {
          "name": "stdout",
          "output_type": "stream",
          "text": [
            "Jumlah Barang yang telah terjual adalah :  110197\n"
          ]
        }
      ],
      "source": [
        "print(\"Jumlah Barang yang telah terjual adalah : \" , len(items_ordered_df[items_ordered_df.order_status == \"delivered\"]))"
      ]
    },
    {
      "cell_type": "markdown",
      "metadata": {
        "id": "EjrxMYZ9Z2b8"
      },
      "source": [
        "Agar penjualan dapat dikategorikan selesai maka status nya harus \"delivered\". Bisa dilihat bahwa jumlah barang yang telah berstatus \"delivered\" ada 110197 sehingga pembelian dianggap selesai dan dana telah diteruskan ke penjual"
      ]
    },
    {
      "cell_type": "markdown",
      "metadata": {
        "id": "PGQf03E7e-3Y"
      },
      "source": [
        "##Seller and Items Ordered Dataframe"
      ]
    },
    {
      "cell_type": "code",
      "execution_count": 42,
      "metadata": {
        "colab": {
          "base_uri": "https://localhost:8080/",
          "height": 261
        },
        "id": "kjho-KajY8zN",
        "outputId": "78ca22e6-57b4-488c-8ac4-5ab256b1965d"
      },
      "outputs": [
        {
          "data": {
            "text/html": [
              "<div>\n",
              "<style scoped>\n",
              "    .dataframe tbody tr th:only-of-type {\n",
              "        vertical-align: middle;\n",
              "    }\n",
              "\n",
              "    .dataframe tbody tr th {\n",
              "        vertical-align: top;\n",
              "    }\n",
              "\n",
              "    .dataframe thead th {\n",
              "        text-align: right;\n",
              "    }\n",
              "</style>\n",
              "<table border=\"1\" class=\"dataframe\">\n",
              "  <thead>\n",
              "    <tr style=\"text-align: right;\">\n",
              "      <th></th>\n",
              "      <th>order_id</th>\n",
              "      <th>order_item_id</th>\n",
              "      <th>product_id</th>\n",
              "      <th>seller_id</th>\n",
              "      <th>shipping_limit_date</th>\n",
              "      <th>price</th>\n",
              "      <th>freight_value</th>\n",
              "      <th>customer_id</th>\n",
              "      <th>order_status</th>\n",
              "      <th>order_purchase_timestamp</th>\n",
              "      <th>order_approved_at</th>\n",
              "      <th>order_delivered_carrier_date</th>\n",
              "      <th>order_delivered_customer_date</th>\n",
              "      <th>order_estimated_delivery_date</th>\n",
              "      <th>seller_zip_code_prefix</th>\n",
              "      <th>seller_city</th>\n",
              "      <th>seller_state</th>\n",
              "    </tr>\n",
              "  </thead>\n",
              "  <tbody>\n",
              "    <tr>\n",
              "      <th>0</th>\n",
              "      <td>00010242fe8c5a6d1ba2dd792cb16214</td>\n",
              "      <td>1</td>\n",
              "      <td>4244733e06e7ecb4970a6e2683c13e61</td>\n",
              "      <td>48436dade18ac8b2bce089ec2a041202</td>\n",
              "      <td>2017-09-19 09:45:35</td>\n",
              "      <td>58.90</td>\n",
              "      <td>13.29</td>\n",
              "      <td>3ce436f183e68e07877b285a838db11a</td>\n",
              "      <td>delivered</td>\n",
              "      <td>2017-09-13 08:59:02</td>\n",
              "      <td>2017-09-13 09:45:35</td>\n",
              "      <td>2017-09-19 18:34:16</td>\n",
              "      <td>2017-09-20 23:43:48</td>\n",
              "      <td>2017-09-29 00:00:00</td>\n",
              "      <td>27277</td>\n",
              "      <td>volta redonda</td>\n",
              "      <td>SP</td>\n",
              "    </tr>\n",
              "    <tr>\n",
              "      <th>1</th>\n",
              "      <td>00018f77f2f0320c557190d7a144bdd3</td>\n",
              "      <td>1</td>\n",
              "      <td>e5f2d52b802189ee658865ca93d83a8f</td>\n",
              "      <td>dd7ddc04e1b6c2c614352b383efe2d36</td>\n",
              "      <td>2017-05-03 11:05:13</td>\n",
              "      <td>239.90</td>\n",
              "      <td>19.93</td>\n",
              "      <td>f6dd3ec061db4e3987629fe6b26e5cce</td>\n",
              "      <td>delivered</td>\n",
              "      <td>2017-04-26 10:53:06</td>\n",
              "      <td>2017-04-26 11:05:13</td>\n",
              "      <td>2017-05-04 14:35:00</td>\n",
              "      <td>2017-05-12 16:04:24</td>\n",
              "      <td>2017-05-15 00:00:00</td>\n",
              "      <td>3471</td>\n",
              "      <td>sao paulo</td>\n",
              "      <td>SP</td>\n",
              "    </tr>\n",
              "    <tr>\n",
              "      <th>2</th>\n",
              "      <td>000229ec398224ef6ca0657da4fc703e</td>\n",
              "      <td>1</td>\n",
              "      <td>c777355d18b72b67abbeef9df44fd0fd</td>\n",
              "      <td>5b51032eddd242adc84c38acab88f23d</td>\n",
              "      <td>2018-01-18 14:48:30</td>\n",
              "      <td>199.00</td>\n",
              "      <td>17.87</td>\n",
              "      <td>6489ae5e4333f3693df5ad4372dab6d3</td>\n",
              "      <td>delivered</td>\n",
              "      <td>2018-01-14 14:33:31</td>\n",
              "      <td>2018-01-14 14:48:30</td>\n",
              "      <td>2018-01-16 12:36:48</td>\n",
              "      <td>2018-01-22 13:19:16</td>\n",
              "      <td>2018-02-05 00:00:00</td>\n",
              "      <td>37564</td>\n",
              "      <td>borda da mata</td>\n",
              "      <td>MG</td>\n",
              "    </tr>\n",
              "    <tr>\n",
              "      <th>3</th>\n",
              "      <td>00024acbcdf0a6daa1e931b038114c75</td>\n",
              "      <td>1</td>\n",
              "      <td>7634da152a4610f1595efa32f14722fc</td>\n",
              "      <td>9d7a1d34a5052409006425275ba1c2b4</td>\n",
              "      <td>2018-08-15 10:10:18</td>\n",
              "      <td>12.99</td>\n",
              "      <td>12.79</td>\n",
              "      <td>d4eb9395c8c0431ee92fce09860c5a06</td>\n",
              "      <td>delivered</td>\n",
              "      <td>2018-08-08 10:00:35</td>\n",
              "      <td>2018-08-08 10:10:18</td>\n",
              "      <td>2018-08-10 13:28:00</td>\n",
              "      <td>2018-08-14 13:32:39</td>\n",
              "      <td>2018-08-20 00:00:00</td>\n",
              "      <td>14403</td>\n",
              "      <td>franca</td>\n",
              "      <td>SP</td>\n",
              "    </tr>\n",
              "    <tr>\n",
              "      <th>4</th>\n",
              "      <td>00042b26cf59d7ce69dfabb4e55b4fd9</td>\n",
              "      <td>1</td>\n",
              "      <td>ac6c3623068f30de03045865e4e10089</td>\n",
              "      <td>df560393f3a51e74553ab94004ba5c87</td>\n",
              "      <td>2017-02-13 13:57:51</td>\n",
              "      <td>199.90</td>\n",
              "      <td>18.14</td>\n",
              "      <td>58dbd0b2d70206bf40e62cd34e84d795</td>\n",
              "      <td>delivered</td>\n",
              "      <td>2017-02-04 13:57:51</td>\n",
              "      <td>2017-02-04 14:10:13</td>\n",
              "      <td>2017-02-16 09:46:09</td>\n",
              "      <td>2017-03-01 16:42:31</td>\n",
              "      <td>2017-03-17 00:00:00</td>\n",
              "      <td>87900</td>\n",
              "      <td>loanda</td>\n",
              "      <td>PR</td>\n",
              "    </tr>\n",
              "  </tbody>\n",
              "</table>\n",
              "</div>"
            ],
            "text/plain": [
              "                           order_id  order_item_id  \\\n",
              "0  00010242fe8c5a6d1ba2dd792cb16214              1   \n",
              "1  00018f77f2f0320c557190d7a144bdd3              1   \n",
              "2  000229ec398224ef6ca0657da4fc703e              1   \n",
              "3  00024acbcdf0a6daa1e931b038114c75              1   \n",
              "4  00042b26cf59d7ce69dfabb4e55b4fd9              1   \n",
              "\n",
              "                         product_id                         seller_id  \\\n",
              "0  4244733e06e7ecb4970a6e2683c13e61  48436dade18ac8b2bce089ec2a041202   \n",
              "1  e5f2d52b802189ee658865ca93d83a8f  dd7ddc04e1b6c2c614352b383efe2d36   \n",
              "2  c777355d18b72b67abbeef9df44fd0fd  5b51032eddd242adc84c38acab88f23d   \n",
              "3  7634da152a4610f1595efa32f14722fc  9d7a1d34a5052409006425275ba1c2b4   \n",
              "4  ac6c3623068f30de03045865e4e10089  df560393f3a51e74553ab94004ba5c87   \n",
              "\n",
              "   shipping_limit_date   price  freight_value  \\\n",
              "0  2017-09-19 09:45:35   58.90          13.29   \n",
              "1  2017-05-03 11:05:13  239.90          19.93   \n",
              "2  2018-01-18 14:48:30  199.00          17.87   \n",
              "3  2018-08-15 10:10:18   12.99          12.79   \n",
              "4  2017-02-13 13:57:51  199.90          18.14   \n",
              "\n",
              "                        customer_id order_status order_purchase_timestamp  \\\n",
              "0  3ce436f183e68e07877b285a838db11a    delivered      2017-09-13 08:59:02   \n",
              "1  f6dd3ec061db4e3987629fe6b26e5cce    delivered      2017-04-26 10:53:06   \n",
              "2  6489ae5e4333f3693df5ad4372dab6d3    delivered      2018-01-14 14:33:31   \n",
              "3  d4eb9395c8c0431ee92fce09860c5a06    delivered      2018-08-08 10:00:35   \n",
              "4  58dbd0b2d70206bf40e62cd34e84d795    delivered      2017-02-04 13:57:51   \n",
              "\n",
              "     order_approved_at order_delivered_carrier_date  \\\n",
              "0  2017-09-13 09:45:35          2017-09-19 18:34:16   \n",
              "1  2017-04-26 11:05:13          2017-05-04 14:35:00   \n",
              "2  2018-01-14 14:48:30          2018-01-16 12:36:48   \n",
              "3  2018-08-08 10:10:18          2018-08-10 13:28:00   \n",
              "4  2017-02-04 14:10:13          2017-02-16 09:46:09   \n",
              "\n",
              "  order_delivered_customer_date order_estimated_delivery_date  \\\n",
              "0           2017-09-20 23:43:48           2017-09-29 00:00:00   \n",
              "1           2017-05-12 16:04:24           2017-05-15 00:00:00   \n",
              "2           2018-01-22 13:19:16           2018-02-05 00:00:00   \n",
              "3           2018-08-14 13:32:39           2018-08-20 00:00:00   \n",
              "4           2017-03-01 16:42:31           2017-03-17 00:00:00   \n",
              "\n",
              "   seller_zip_code_prefix    seller_city seller_state  \n",
              "0                   27277  volta redonda           SP  \n",
              "1                    3471      sao paulo           SP  \n",
              "2                   37564  borda da mata           MG  \n",
              "3                   14403         franca           SP  \n",
              "4                   87900         loanda           PR  "
            ]
          },
          "execution_count": 42,
          "metadata": {},
          "output_type": "execute_result"
        }
      ],
      "source": [
        "seller_items_sold_df = pd.merge(\n",
        "    left= items_ordered_df,\n",
        "    right= sellers_df,\n",
        "    how=\"left\",\n",
        "    left_on=\"seller_id\",\n",
        "    right_on=\"seller_id\"\n",
        ")\n",
        "\n",
        "seller_items_sold_df.head()"
      ]
    },
    {
      "cell_type": "code",
      "execution_count": 43,
      "metadata": {
        "colab": {
          "base_uri": "https://localhost:8080/"
        },
        "id": "Z06f32mjZY2Y",
        "outputId": "a595e46f-c83b-4253-8333-8f7f4f2092cd"
      },
      "outputs": [
        {
          "name": "stdout",
          "output_type": "stream",
          "text": [
            "Jumlah penjual yang telah berhasil menjual barangnya :  2970\n"
          ]
        }
      ],
      "source": [
        "print(\"Jumlah penjual yang telah berhasil menjual barangnya : \", seller_items_sold_df[items_ordered_df.order_status == \"delivered\"].seller_id.nunique())"
      ]
    },
    {
      "cell_type": "markdown",
      "metadata": {
        "id": "SSZYM6iBfhp_"
      },
      "source": [
        "Agar penjualan dapat dikategorikan selesai maka status nya harus \"delivered\" sehingga untuk mengetahui berapa penjual yang telah berhasil menjual barang mereka, kita perlu mencari barang-barang yang telah berstatus \"delivered\" lalu menghitung jumlah penjual yang memiliki barang berstatus \"delivered\" tersebut"
      ]
    },
    {
      "cell_type": "markdown",
      "metadata": {
        "id": "qszydNgUeP2y"
      },
      "source": [
        "##Customer and Items Ordered Dataframe"
      ]
    },
    {
      "cell_type": "code",
      "execution_count": 44,
      "metadata": {
        "colab": {
          "base_uri": "https://localhost:8080/",
          "height": 244
        },
        "id": "NIY_ysi-eT4J",
        "outputId": "dabf4e5d-63c3-4c48-f3ca-d2e2f6d6669f"
      },
      "outputs": [
        {
          "data": {
            "text/html": [
              "<div>\n",
              "<style scoped>\n",
              "    .dataframe tbody tr th:only-of-type {\n",
              "        vertical-align: middle;\n",
              "    }\n",
              "\n",
              "    .dataframe tbody tr th {\n",
              "        vertical-align: top;\n",
              "    }\n",
              "\n",
              "    .dataframe thead th {\n",
              "        text-align: right;\n",
              "    }\n",
              "</style>\n",
              "<table border=\"1\" class=\"dataframe\">\n",
              "  <thead>\n",
              "    <tr style=\"text-align: right;\">\n",
              "      <th></th>\n",
              "      <th>order_id</th>\n",
              "      <th>order_item_id</th>\n",
              "      <th>product_id</th>\n",
              "      <th>seller_id</th>\n",
              "      <th>shipping_limit_date</th>\n",
              "      <th>price</th>\n",
              "      <th>freight_value</th>\n",
              "      <th>customer_id</th>\n",
              "      <th>order_status</th>\n",
              "      <th>order_purchase_timestamp</th>\n",
              "      <th>order_approved_at</th>\n",
              "      <th>order_delivered_carrier_date</th>\n",
              "      <th>order_delivered_customer_date</th>\n",
              "      <th>order_estimated_delivery_date</th>\n",
              "      <th>customer_unique_id</th>\n",
              "      <th>customer_zip_code_prefix</th>\n",
              "      <th>customer_city</th>\n",
              "      <th>customer_state</th>\n",
              "    </tr>\n",
              "  </thead>\n",
              "  <tbody>\n",
              "    <tr>\n",
              "      <th>0</th>\n",
              "      <td>00010242fe8c5a6d1ba2dd792cb16214</td>\n",
              "      <td>1</td>\n",
              "      <td>4244733e06e7ecb4970a6e2683c13e61</td>\n",
              "      <td>48436dade18ac8b2bce089ec2a041202</td>\n",
              "      <td>2017-09-19 09:45:35</td>\n",
              "      <td>58.90</td>\n",
              "      <td>13.29</td>\n",
              "      <td>3ce436f183e68e07877b285a838db11a</td>\n",
              "      <td>delivered</td>\n",
              "      <td>2017-09-13 08:59:02</td>\n",
              "      <td>2017-09-13 09:45:35</td>\n",
              "      <td>2017-09-19 18:34:16</td>\n",
              "      <td>2017-09-20 23:43:48</td>\n",
              "      <td>2017-09-29 00:00:00</td>\n",
              "      <td>871766c5855e863f6eccc05f988b23cb</td>\n",
              "      <td>28013</td>\n",
              "      <td>campos dos goytacazes</td>\n",
              "      <td>RJ</td>\n",
              "    </tr>\n",
              "    <tr>\n",
              "      <th>1</th>\n",
              "      <td>00018f77f2f0320c557190d7a144bdd3</td>\n",
              "      <td>1</td>\n",
              "      <td>e5f2d52b802189ee658865ca93d83a8f</td>\n",
              "      <td>dd7ddc04e1b6c2c614352b383efe2d36</td>\n",
              "      <td>2017-05-03 11:05:13</td>\n",
              "      <td>239.90</td>\n",
              "      <td>19.93</td>\n",
              "      <td>f6dd3ec061db4e3987629fe6b26e5cce</td>\n",
              "      <td>delivered</td>\n",
              "      <td>2017-04-26 10:53:06</td>\n",
              "      <td>2017-04-26 11:05:13</td>\n",
              "      <td>2017-05-04 14:35:00</td>\n",
              "      <td>2017-05-12 16:04:24</td>\n",
              "      <td>2017-05-15 00:00:00</td>\n",
              "      <td>eb28e67c4c0b83846050ddfb8a35d051</td>\n",
              "      <td>15775</td>\n",
              "      <td>santa fe do sul</td>\n",
              "      <td>SP</td>\n",
              "    </tr>\n",
              "    <tr>\n",
              "      <th>2</th>\n",
              "      <td>000229ec398224ef6ca0657da4fc703e</td>\n",
              "      <td>1</td>\n",
              "      <td>c777355d18b72b67abbeef9df44fd0fd</td>\n",
              "      <td>5b51032eddd242adc84c38acab88f23d</td>\n",
              "      <td>2018-01-18 14:48:30</td>\n",
              "      <td>199.00</td>\n",
              "      <td>17.87</td>\n",
              "      <td>6489ae5e4333f3693df5ad4372dab6d3</td>\n",
              "      <td>delivered</td>\n",
              "      <td>2018-01-14 14:33:31</td>\n",
              "      <td>2018-01-14 14:48:30</td>\n",
              "      <td>2018-01-16 12:36:48</td>\n",
              "      <td>2018-01-22 13:19:16</td>\n",
              "      <td>2018-02-05 00:00:00</td>\n",
              "      <td>3818d81c6709e39d06b2738a8d3a2474</td>\n",
              "      <td>35661</td>\n",
              "      <td>para de minas</td>\n",
              "      <td>MG</td>\n",
              "    </tr>\n",
              "    <tr>\n",
              "      <th>3</th>\n",
              "      <td>00024acbcdf0a6daa1e931b038114c75</td>\n",
              "      <td>1</td>\n",
              "      <td>7634da152a4610f1595efa32f14722fc</td>\n",
              "      <td>9d7a1d34a5052409006425275ba1c2b4</td>\n",
              "      <td>2018-08-15 10:10:18</td>\n",
              "      <td>12.99</td>\n",
              "      <td>12.79</td>\n",
              "      <td>d4eb9395c8c0431ee92fce09860c5a06</td>\n",
              "      <td>delivered</td>\n",
              "      <td>2018-08-08 10:00:35</td>\n",
              "      <td>2018-08-08 10:10:18</td>\n",
              "      <td>2018-08-10 13:28:00</td>\n",
              "      <td>2018-08-14 13:32:39</td>\n",
              "      <td>2018-08-20 00:00:00</td>\n",
              "      <td>af861d436cfc08b2c2ddefd0ba074622</td>\n",
              "      <td>12952</td>\n",
              "      <td>atibaia</td>\n",
              "      <td>SP</td>\n",
              "    </tr>\n",
              "    <tr>\n",
              "      <th>4</th>\n",
              "      <td>00042b26cf59d7ce69dfabb4e55b4fd9</td>\n",
              "      <td>1</td>\n",
              "      <td>ac6c3623068f30de03045865e4e10089</td>\n",
              "      <td>df560393f3a51e74553ab94004ba5c87</td>\n",
              "      <td>2017-02-13 13:57:51</td>\n",
              "      <td>199.90</td>\n",
              "      <td>18.14</td>\n",
              "      <td>58dbd0b2d70206bf40e62cd34e84d795</td>\n",
              "      <td>delivered</td>\n",
              "      <td>2017-02-04 13:57:51</td>\n",
              "      <td>2017-02-04 14:10:13</td>\n",
              "      <td>2017-02-16 09:46:09</td>\n",
              "      <td>2017-03-01 16:42:31</td>\n",
              "      <td>2017-03-17 00:00:00</td>\n",
              "      <td>64b576fb70d441e8f1b2d7d446e483c5</td>\n",
              "      <td>13226</td>\n",
              "      <td>varzea paulista</td>\n",
              "      <td>SP</td>\n",
              "    </tr>\n",
              "  </tbody>\n",
              "</table>\n",
              "</div>"
            ],
            "text/plain": [
              "                           order_id  order_item_id  \\\n",
              "0  00010242fe8c5a6d1ba2dd792cb16214              1   \n",
              "1  00018f77f2f0320c557190d7a144bdd3              1   \n",
              "2  000229ec398224ef6ca0657da4fc703e              1   \n",
              "3  00024acbcdf0a6daa1e931b038114c75              1   \n",
              "4  00042b26cf59d7ce69dfabb4e55b4fd9              1   \n",
              "\n",
              "                         product_id                         seller_id  \\\n",
              "0  4244733e06e7ecb4970a6e2683c13e61  48436dade18ac8b2bce089ec2a041202   \n",
              "1  e5f2d52b802189ee658865ca93d83a8f  dd7ddc04e1b6c2c614352b383efe2d36   \n",
              "2  c777355d18b72b67abbeef9df44fd0fd  5b51032eddd242adc84c38acab88f23d   \n",
              "3  7634da152a4610f1595efa32f14722fc  9d7a1d34a5052409006425275ba1c2b4   \n",
              "4  ac6c3623068f30de03045865e4e10089  df560393f3a51e74553ab94004ba5c87   \n",
              "\n",
              "   shipping_limit_date   price  freight_value  \\\n",
              "0  2017-09-19 09:45:35   58.90          13.29   \n",
              "1  2017-05-03 11:05:13  239.90          19.93   \n",
              "2  2018-01-18 14:48:30  199.00          17.87   \n",
              "3  2018-08-15 10:10:18   12.99          12.79   \n",
              "4  2017-02-13 13:57:51  199.90          18.14   \n",
              "\n",
              "                        customer_id order_status order_purchase_timestamp  \\\n",
              "0  3ce436f183e68e07877b285a838db11a    delivered      2017-09-13 08:59:02   \n",
              "1  f6dd3ec061db4e3987629fe6b26e5cce    delivered      2017-04-26 10:53:06   \n",
              "2  6489ae5e4333f3693df5ad4372dab6d3    delivered      2018-01-14 14:33:31   \n",
              "3  d4eb9395c8c0431ee92fce09860c5a06    delivered      2018-08-08 10:00:35   \n",
              "4  58dbd0b2d70206bf40e62cd34e84d795    delivered      2017-02-04 13:57:51   \n",
              "\n",
              "     order_approved_at order_delivered_carrier_date  \\\n",
              "0  2017-09-13 09:45:35          2017-09-19 18:34:16   \n",
              "1  2017-04-26 11:05:13          2017-05-04 14:35:00   \n",
              "2  2018-01-14 14:48:30          2018-01-16 12:36:48   \n",
              "3  2018-08-08 10:10:18          2018-08-10 13:28:00   \n",
              "4  2017-02-04 14:10:13          2017-02-16 09:46:09   \n",
              "\n",
              "  order_delivered_customer_date order_estimated_delivery_date  \\\n",
              "0           2017-09-20 23:43:48           2017-09-29 00:00:00   \n",
              "1           2017-05-12 16:04:24           2017-05-15 00:00:00   \n",
              "2           2018-01-22 13:19:16           2018-02-05 00:00:00   \n",
              "3           2018-08-14 13:32:39           2018-08-20 00:00:00   \n",
              "4           2017-03-01 16:42:31           2017-03-17 00:00:00   \n",
              "\n",
              "                 customer_unique_id  customer_zip_code_prefix  \\\n",
              "0  871766c5855e863f6eccc05f988b23cb                     28013   \n",
              "1  eb28e67c4c0b83846050ddfb8a35d051                     15775   \n",
              "2  3818d81c6709e39d06b2738a8d3a2474                     35661   \n",
              "3  af861d436cfc08b2c2ddefd0ba074622                     12952   \n",
              "4  64b576fb70d441e8f1b2d7d446e483c5                     13226   \n",
              "\n",
              "           customer_city customer_state  \n",
              "0  campos dos goytacazes             RJ  \n",
              "1        santa fe do sul             SP  \n",
              "2          para de minas             MG  \n",
              "3                atibaia             SP  \n",
              "4        varzea paulista             SP  "
            ]
          },
          "execution_count": 44,
          "metadata": {},
          "output_type": "execute_result"
        }
      ],
      "source": [
        "customers_purchases = pd.merge(\n",
        "    left= items_ordered_df,\n",
        "    right= customers_df,\n",
        "    how=\"left\",\n",
        "    left_on=\"customer_id\",\n",
        "    right_on=\"customer_id\"\n",
        ")\n",
        "\n",
        "customers_purchases.head()"
      ]
    },
    {
      "cell_type": "code",
      "execution_count": 45,
      "metadata": {
        "colab": {
          "base_uri": "https://localhost:8080/"
        },
        "id": "5WPyf1IoewUj",
        "outputId": "18a72381-2f51-484e-debe-4b78748dea6a"
      },
      "outputs": [
        {
          "name": "stdout",
          "output_type": "stream",
          "text": [
            "Jumlah customer yang telah melakukan transaksi di e-commerce adalah : 98666\n"
          ]
        }
      ],
      "source": [
        "print(\"Jumlah customer yang telah melakukan transaksi di e-commerce adalah :\", customers_purchases.customer_id.nunique())"
      ]
    },
    {
      "cell_type": "markdown",
      "metadata": {
        "id": "ewnKoi77y3IX"
      },
      "source": [
        "Dari 99441 Jumlah pengguna yang ada di e-commerce, hanya 98666 yang pernah melakukan transaksi di e-commerce tersebut"
      ]
    },
    {
      "cell_type": "markdown",
      "metadata": {
        "id": "8YUaDD6JgRp6"
      },
      "source": [
        "##Products and Product Category Dataframe"
      ]
    },
    {
      "cell_type": "code",
      "execution_count": 46,
      "metadata": {
        "colab": {
          "base_uri": "https://localhost:8080/",
          "height": 206
        },
        "id": "Uk3vf4q1gM4G",
        "outputId": "a04631fd-fc3f-4d63-97cf-613e5fffe1fc"
      },
      "outputs": [
        {
          "data": {
            "text/html": [
              "<div>\n",
              "<style scoped>\n",
              "    .dataframe tbody tr th:only-of-type {\n",
              "        vertical-align: middle;\n",
              "    }\n",
              "\n",
              "    .dataframe tbody tr th {\n",
              "        vertical-align: top;\n",
              "    }\n",
              "\n",
              "    .dataframe thead th {\n",
              "        text-align: right;\n",
              "    }\n",
              "</style>\n",
              "<table border=\"1\" class=\"dataframe\">\n",
              "  <thead>\n",
              "    <tr style=\"text-align: right;\">\n",
              "      <th></th>\n",
              "      <th>product_id</th>\n",
              "      <th>product_category_name</th>\n",
              "      <th>product_name_lenght</th>\n",
              "      <th>product_description_lenght</th>\n",
              "      <th>product_photos_qty</th>\n",
              "      <th>product_weight_g</th>\n",
              "      <th>product_length_cm</th>\n",
              "      <th>product_height_cm</th>\n",
              "      <th>product_width_cm</th>\n",
              "      <th>product_category_name_english</th>\n",
              "    </tr>\n",
              "  </thead>\n",
              "  <tbody>\n",
              "    <tr>\n",
              "      <th>0</th>\n",
              "      <td>1e9e8ef04dbcff4541ed26657ea517e5</td>\n",
              "      <td>perfumaria</td>\n",
              "      <td>40.0</td>\n",
              "      <td>287.0</td>\n",
              "      <td>1.0</td>\n",
              "      <td>225.0</td>\n",
              "      <td>16.0</td>\n",
              "      <td>10.0</td>\n",
              "      <td>14.0</td>\n",
              "      <td>perfumery</td>\n",
              "    </tr>\n",
              "    <tr>\n",
              "      <th>1</th>\n",
              "      <td>3aa071139cb16b67ca9e5dea641aaa2f</td>\n",
              "      <td>artes</td>\n",
              "      <td>44.0</td>\n",
              "      <td>276.0</td>\n",
              "      <td>1.0</td>\n",
              "      <td>1000.0</td>\n",
              "      <td>30.0</td>\n",
              "      <td>18.0</td>\n",
              "      <td>20.0</td>\n",
              "      <td>art</td>\n",
              "    </tr>\n",
              "    <tr>\n",
              "      <th>2</th>\n",
              "      <td>96bd76ec8810374ed1b65e291975717f</td>\n",
              "      <td>esporte_lazer</td>\n",
              "      <td>46.0</td>\n",
              "      <td>250.0</td>\n",
              "      <td>1.0</td>\n",
              "      <td>154.0</td>\n",
              "      <td>18.0</td>\n",
              "      <td>9.0</td>\n",
              "      <td>15.0</td>\n",
              "      <td>sports_leisure</td>\n",
              "    </tr>\n",
              "    <tr>\n",
              "      <th>3</th>\n",
              "      <td>cef67bcfe19066a932b7673e239eb23d</td>\n",
              "      <td>bebes</td>\n",
              "      <td>27.0</td>\n",
              "      <td>261.0</td>\n",
              "      <td>1.0</td>\n",
              "      <td>371.0</td>\n",
              "      <td>26.0</td>\n",
              "      <td>4.0</td>\n",
              "      <td>26.0</td>\n",
              "      <td>baby</td>\n",
              "    </tr>\n",
              "    <tr>\n",
              "      <th>4</th>\n",
              "      <td>9dc1a7de274444849c219cff195d0b71</td>\n",
              "      <td>utilidades_domesticas</td>\n",
              "      <td>37.0</td>\n",
              "      <td>402.0</td>\n",
              "      <td>4.0</td>\n",
              "      <td>625.0</td>\n",
              "      <td>20.0</td>\n",
              "      <td>17.0</td>\n",
              "      <td>13.0</td>\n",
              "      <td>housewares</td>\n",
              "    </tr>\n",
              "  </tbody>\n",
              "</table>\n",
              "</div>"
            ],
            "text/plain": [
              "                         product_id  product_category_name  \\\n",
              "0  1e9e8ef04dbcff4541ed26657ea517e5             perfumaria   \n",
              "1  3aa071139cb16b67ca9e5dea641aaa2f                  artes   \n",
              "2  96bd76ec8810374ed1b65e291975717f          esporte_lazer   \n",
              "3  cef67bcfe19066a932b7673e239eb23d                  bebes   \n",
              "4  9dc1a7de274444849c219cff195d0b71  utilidades_domesticas   \n",
              "\n",
              "   product_name_lenght  product_description_lenght  product_photos_qty  \\\n",
              "0                 40.0                       287.0                 1.0   \n",
              "1                 44.0                       276.0                 1.0   \n",
              "2                 46.0                       250.0                 1.0   \n",
              "3                 27.0                       261.0                 1.0   \n",
              "4                 37.0                       402.0                 4.0   \n",
              "\n",
              "  product_weight_g product_length_cm product_height_cm product_width_cm  \\\n",
              "0            225.0              16.0              10.0             14.0   \n",
              "1           1000.0              30.0              18.0             20.0   \n",
              "2            154.0              18.0               9.0             15.0   \n",
              "3            371.0              26.0               4.0             26.0   \n",
              "4            625.0              20.0              17.0             13.0   \n",
              "\n",
              "  product_category_name_english  \n",
              "0                     perfumery  \n",
              "1                           art  \n",
              "2                sports_leisure  \n",
              "3                          baby  \n",
              "4                    housewares  "
            ]
          },
          "execution_count": 46,
          "metadata": {},
          "output_type": "execute_result"
        }
      ],
      "source": [
        "products_with_category_df = pd.merge(\n",
        "    left = products_df,\n",
        "    right = product_category_df,\n",
        "    how=\"left\",\n",
        "    left_on=\"product_category_name\",\n",
        "    right_on=\"product_category_name\"\n",
        ")\n",
        "\n",
        "products_with_category_df.head()"
      ]
    },
    {
      "cell_type": "code",
      "execution_count": 47,
      "metadata": {
        "colab": {
          "base_uri": "https://localhost:8080/"
        },
        "id": "HWLHOHyNg90V",
        "outputId": "1df46f08-d0f6-4387-dc0d-88d2c92376a4"
      },
      "outputs": [
        {
          "name": "stdout",
          "output_type": "stream",
          "text": [
            "<class 'pandas.core.frame.DataFrame'>\n",
            "RangeIndex: 32341 entries, 0 to 32340\n",
            "Data columns (total 10 columns):\n",
            " #   Column                         Non-Null Count  Dtype  \n",
            "---  ------                         --------------  -----  \n",
            " 0   product_id                     32341 non-null  object \n",
            " 1   product_category_name          32341 non-null  object \n",
            " 2   product_name_lenght            32341 non-null  float64\n",
            " 3   product_description_lenght     32341 non-null  float64\n",
            " 4   product_photos_qty             32341 non-null  float64\n",
            " 5   product_weight_g               32341 non-null  object \n",
            " 6   product_length_cm              32341 non-null  object \n",
            " 7   product_height_cm              32341 non-null  object \n",
            " 8   product_width_cm               32341 non-null  object \n",
            " 9   product_category_name_english  32328 non-null  object \n",
            "dtypes: float64(3), object(7)\n",
            "memory usage: 2.5+ MB\n"
          ]
        }
      ],
      "source": [
        "products_with_category_df.info()"
      ]
    },
    {
      "cell_type": "code",
      "execution_count": 48,
      "metadata": {
        "colab": {
          "base_uri": "https://localhost:8080/"
        },
        "id": "djSeKewCukkg",
        "outputId": "a3145221-f1a6-4896-9a45-298d51fdf9ac"
      },
      "outputs": [
        {
          "data": {
            "text/plain": [
              "product_id                        0\n",
              "product_category_name             0\n",
              "product_name_lenght               0\n",
              "product_description_lenght        0\n",
              "product_photos_qty                0\n",
              "product_weight_g                  0\n",
              "product_length_cm                 0\n",
              "product_height_cm                 0\n",
              "product_width_cm                  0\n",
              "product_category_name_english    13\n",
              "dtype: int64"
            ]
          },
          "execution_count": 48,
          "metadata": {},
          "output_type": "execute_result"
        }
      ],
      "source": [
        "products_with_category_df.isna().sum()"
      ]
    },
    {
      "cell_type": "code",
      "execution_count": 49,
      "metadata": {
        "colab": {
          "base_uri": "https://localhost:8080/",
          "height": 477
        },
        "id": "JoU-O-8lhO_W",
        "outputId": "a36b6e33-14c5-4984-e42b-1ff790c97b65"
      },
      "outputs": [
        {
          "data": {
            "text/html": [
              "<div>\n",
              "<style scoped>\n",
              "    .dataframe tbody tr th:only-of-type {\n",
              "        vertical-align: middle;\n",
              "    }\n",
              "\n",
              "    .dataframe tbody tr th {\n",
              "        vertical-align: top;\n",
              "    }\n",
              "\n",
              "    .dataframe thead th {\n",
              "        text-align: right;\n",
              "    }\n",
              "</style>\n",
              "<table border=\"1\" class=\"dataframe\">\n",
              "  <thead>\n",
              "    <tr style=\"text-align: right;\">\n",
              "      <th></th>\n",
              "      <th>product_id</th>\n",
              "      <th>product_category_name</th>\n",
              "      <th>product_name_lenght</th>\n",
              "      <th>product_description_lenght</th>\n",
              "      <th>product_photos_qty</th>\n",
              "      <th>product_weight_g</th>\n",
              "      <th>product_length_cm</th>\n",
              "      <th>product_height_cm</th>\n",
              "      <th>product_width_cm</th>\n",
              "      <th>product_category_name_english</th>\n",
              "    </tr>\n",
              "  </thead>\n",
              "  <tbody>\n",
              "    <tr>\n",
              "      <th>1581</th>\n",
              "      <td>0105b5323d24fc655f73052694dbbb3a</td>\n",
              "      <td>pc_gamer</td>\n",
              "      <td>59.0</td>\n",
              "      <td>621.0</td>\n",
              "      <td>4.0</td>\n",
              "      <td>2839.0</td>\n",
              "      <td>19.0</td>\n",
              "      <td>16.0</td>\n",
              "      <td>18.0</td>\n",
              "      <td>NaN</td>\n",
              "    </tr>\n",
              "    <tr>\n",
              "      <th>5703</th>\n",
              "      <td>6fd83eb3e0799b775e4f946bd66657c0</td>\n",
              "      <td>portateis_cozinha_e_preparadores_de_alimentos</td>\n",
              "      <td>52.0</td>\n",
              "      <td>280.0</td>\n",
              "      <td>1.0</td>\n",
              "      <td>1200.0</td>\n",
              "      <td>25.0</td>\n",
              "      <td>33.0</td>\n",
              "      <td>25.0</td>\n",
              "      <td>NaN</td>\n",
              "    </tr>\n",
              "    <tr>\n",
              "      <th>7176</th>\n",
              "      <td>5d923ead886c44b86845f69e50520c3e</td>\n",
              "      <td>portateis_cozinha_e_preparadores_de_alimentos</td>\n",
              "      <td>58.0</td>\n",
              "      <td>284.0</td>\n",
              "      <td>1.0</td>\n",
              "      <td>1200.0</td>\n",
              "      <td>25.0</td>\n",
              "      <td>33.0</td>\n",
              "      <td>25.0</td>\n",
              "      <td>NaN</td>\n",
              "    </tr>\n",
              "    <tr>\n",
              "      <th>7326</th>\n",
              "      <td>6727051471a0fc4a0e7737b57bff2549</td>\n",
              "      <td>pc_gamer</td>\n",
              "      <td>60.0</td>\n",
              "      <td>1532.0</td>\n",
              "      <td>3.0</td>\n",
              "      <td>650.0</td>\n",
              "      <td>16.0</td>\n",
              "      <td>22.0</td>\n",
              "      <td>20.0</td>\n",
              "      <td>NaN</td>\n",
              "    </tr>\n",
              "    <tr>\n",
              "      <th>8648</th>\n",
              "      <td>bed164d9d628cf0593003389c535c6e0</td>\n",
              "      <td>portateis_cozinha_e_preparadores_de_alimentos</td>\n",
              "      <td>54.0</td>\n",
              "      <td>382.0</td>\n",
              "      <td>2.0</td>\n",
              "      <td>850.0</td>\n",
              "      <td>30.0</td>\n",
              "      <td>21.0</td>\n",
              "      <td>22.0</td>\n",
              "      <td>NaN</td>\n",
              "    </tr>\n",
              "    <tr>\n",
              "      <th>10823</th>\n",
              "      <td>1220978a08a6b29a202bc015b18250e9</td>\n",
              "      <td>portateis_cozinha_e_preparadores_de_alimentos</td>\n",
              "      <td>46.0</td>\n",
              "      <td>280.0</td>\n",
              "      <td>1.0</td>\n",
              "      <td>1200.0</td>\n",
              "      <td>25.0</td>\n",
              "      <td>33.0</td>\n",
              "      <td>25.0</td>\n",
              "      <td>NaN</td>\n",
              "    </tr>\n",
              "    <tr>\n",
              "      <th>13996</th>\n",
              "      <td>ae62bb0f95af63d64eae5f93dddea8d3</td>\n",
              "      <td>portateis_cozinha_e_preparadores_de_alimentos</td>\n",
              "      <td>59.0</td>\n",
              "      <td>927.0</td>\n",
              "      <td>1.0</td>\n",
              "      <td>10600.0</td>\n",
              "      <td>40.0</td>\n",
              "      <td>20.0</td>\n",
              "      <td>38.0</td>\n",
              "      <td>NaN</td>\n",
              "    </tr>\n",
              "    <tr>\n",
              "      <th>15875</th>\n",
              "      <td>1954739d84629e7323a4295812a3e0ec</td>\n",
              "      <td>portateis_cozinha_e_preparadores_de_alimentos</td>\n",
              "      <td>58.0</td>\n",
              "      <td>792.0</td>\n",
              "      <td>4.0</td>\n",
              "      <td>750.0</td>\n",
              "      <td>30.0</td>\n",
              "      <td>30.0</td>\n",
              "      <td>30.0</td>\n",
              "      <td>NaN</td>\n",
              "    </tr>\n",
              "    <tr>\n",
              "      <th>16609</th>\n",
              "      <td>dbe520fb381ad695a7e1f2807d20c765</td>\n",
              "      <td>pc_gamer</td>\n",
              "      <td>60.0</td>\n",
              "      <td>840.0</td>\n",
              "      <td>6.0</td>\n",
              "      <td>800.0</td>\n",
              "      <td>18.0</td>\n",
              "      <td>22.0</td>\n",
              "      <td>22.0</td>\n",
              "      <td>NaN</td>\n",
              "    </tr>\n",
              "    <tr>\n",
              "      <th>17460</th>\n",
              "      <td>c7a3f1a7f9eef146cc499368b578b884</td>\n",
              "      <td>portateis_cozinha_e_preparadores_de_alimentos</td>\n",
              "      <td>52.0</td>\n",
              "      <td>1372.0</td>\n",
              "      <td>5.0</td>\n",
              "      <td>7350.0</td>\n",
              "      <td>40.0</td>\n",
              "      <td>30.0</td>\n",
              "      <td>23.0</td>\n",
              "      <td>NaN</td>\n",
              "    </tr>\n",
              "    <tr>\n",
              "      <th>18252</th>\n",
              "      <td>7afdd65f79f63819ff5bee328843fa37</td>\n",
              "      <td>portateis_cozinha_e_preparadores_de_alimentos</td>\n",
              "      <td>48.0</td>\n",
              "      <td>305.0</td>\n",
              "      <td>1.0</td>\n",
              "      <td>750.0</td>\n",
              "      <td>20.0</td>\n",
              "      <td>20.0</td>\n",
              "      <td>20.0</td>\n",
              "      <td>NaN</td>\n",
              "    </tr>\n",
              "    <tr>\n",
              "      <th>26398</th>\n",
              "      <td>a4756663d007b0cd1af865754d08d968</td>\n",
              "      <td>portateis_cozinha_e_preparadores_de_alimentos</td>\n",
              "      <td>60.0</td>\n",
              "      <td>1304.0</td>\n",
              "      <td>4.0</td>\n",
              "      <td>650.0</td>\n",
              "      <td>22.0</td>\n",
              "      <td>6.0</td>\n",
              "      <td>14.0</td>\n",
              "      <td>NaN</td>\n",
              "    </tr>\n",
              "    <tr>\n",
              "      <th>29370</th>\n",
              "      <td>cb9d764f38ee4d0c00af64d5c388f837</td>\n",
              "      <td>portateis_cozinha_e_preparadores_de_alimentos</td>\n",
              "      <td>57.0</td>\n",
              "      <td>306.0</td>\n",
              "      <td>1.0</td>\n",
              "      <td>625.0</td>\n",
              "      <td>28.0</td>\n",
              "      <td>27.0</td>\n",
              "      <td>24.0</td>\n",
              "      <td>NaN</td>\n",
              "    </tr>\n",
              "  </tbody>\n",
              "</table>\n",
              "</div>"
            ],
            "text/plain": [
              "                             product_id  \\\n",
              "1581   0105b5323d24fc655f73052694dbbb3a   \n",
              "5703   6fd83eb3e0799b775e4f946bd66657c0   \n",
              "7176   5d923ead886c44b86845f69e50520c3e   \n",
              "7326   6727051471a0fc4a0e7737b57bff2549   \n",
              "8648   bed164d9d628cf0593003389c535c6e0   \n",
              "10823  1220978a08a6b29a202bc015b18250e9   \n",
              "13996  ae62bb0f95af63d64eae5f93dddea8d3   \n",
              "15875  1954739d84629e7323a4295812a3e0ec   \n",
              "16609  dbe520fb381ad695a7e1f2807d20c765   \n",
              "17460  c7a3f1a7f9eef146cc499368b578b884   \n",
              "18252  7afdd65f79f63819ff5bee328843fa37   \n",
              "26398  a4756663d007b0cd1af865754d08d968   \n",
              "29370  cb9d764f38ee4d0c00af64d5c388f837   \n",
              "\n",
              "                               product_category_name  product_name_lenght  \\\n",
              "1581                                        pc_gamer                 59.0   \n",
              "5703   portateis_cozinha_e_preparadores_de_alimentos                 52.0   \n",
              "7176   portateis_cozinha_e_preparadores_de_alimentos                 58.0   \n",
              "7326                                        pc_gamer                 60.0   \n",
              "8648   portateis_cozinha_e_preparadores_de_alimentos                 54.0   \n",
              "10823  portateis_cozinha_e_preparadores_de_alimentos                 46.0   \n",
              "13996  portateis_cozinha_e_preparadores_de_alimentos                 59.0   \n",
              "15875  portateis_cozinha_e_preparadores_de_alimentos                 58.0   \n",
              "16609                                       pc_gamer                 60.0   \n",
              "17460  portateis_cozinha_e_preparadores_de_alimentos                 52.0   \n",
              "18252  portateis_cozinha_e_preparadores_de_alimentos                 48.0   \n",
              "26398  portateis_cozinha_e_preparadores_de_alimentos                 60.0   \n",
              "29370  portateis_cozinha_e_preparadores_de_alimentos                 57.0   \n",
              "\n",
              "       product_description_lenght  product_photos_qty product_weight_g  \\\n",
              "1581                        621.0                 4.0           2839.0   \n",
              "5703                        280.0                 1.0           1200.0   \n",
              "7176                        284.0                 1.0           1200.0   \n",
              "7326                       1532.0                 3.0            650.0   \n",
              "8648                        382.0                 2.0            850.0   \n",
              "10823                       280.0                 1.0           1200.0   \n",
              "13996                       927.0                 1.0          10600.0   \n",
              "15875                       792.0                 4.0            750.0   \n",
              "16609                       840.0                 6.0            800.0   \n",
              "17460                      1372.0                 5.0           7350.0   \n",
              "18252                       305.0                 1.0            750.0   \n",
              "26398                      1304.0                 4.0            650.0   \n",
              "29370                       306.0                 1.0            625.0   \n",
              "\n",
              "      product_length_cm product_height_cm product_width_cm  \\\n",
              "1581               19.0              16.0             18.0   \n",
              "5703               25.0              33.0             25.0   \n",
              "7176               25.0              33.0             25.0   \n",
              "7326               16.0              22.0             20.0   \n",
              "8648               30.0              21.0             22.0   \n",
              "10823              25.0              33.0             25.0   \n",
              "13996              40.0              20.0             38.0   \n",
              "15875              30.0              30.0             30.0   \n",
              "16609              18.0              22.0             22.0   \n",
              "17460              40.0              30.0             23.0   \n",
              "18252              20.0              20.0             20.0   \n",
              "26398              22.0               6.0             14.0   \n",
              "29370              28.0              27.0             24.0   \n",
              "\n",
              "      product_category_name_english  \n",
              "1581                            NaN  \n",
              "5703                            NaN  \n",
              "7176                            NaN  \n",
              "7326                            NaN  \n",
              "8648                            NaN  \n",
              "10823                           NaN  \n",
              "13996                           NaN  \n",
              "15875                           NaN  \n",
              "16609                           NaN  \n",
              "17460                           NaN  \n",
              "18252                           NaN  \n",
              "26398                           NaN  \n",
              "29370                           NaN  "
            ]
          },
          "execution_count": 49,
          "metadata": {},
          "output_type": "execute_result"
        }
      ],
      "source": [
        "products_with_category_df[products_with_category_df.product_category_name_english.isna()]"
      ]
    },
    {
      "cell_type": "code",
      "execution_count": 50,
      "metadata": {
        "id": "nQuG4kUUu8li"
      },
      "outputs": [],
      "source": [
        "condition = products_with_category_df['product_category_name'] == \"portateis_cozinha_e_preparadores_de_alimentos\"\n",
        "products_with_category_df.loc[condition, 'product_category_name_english'] = \"kitchen_portables_and_food_preparers\"\n",
        "\n",
        "\n",
        "condition = products_with_category_df['product_category_name'] == \"pc_gamer\"\n",
        "products_with_category_df.loc[condition, 'product_category_name_english'] = \"pc_gamer\""
      ]
    },
    {
      "cell_type": "code",
      "execution_count": 51,
      "metadata": {
        "colab": {
          "base_uri": "https://localhost:8080/"
        },
        "id": "UZRxzZ0hvehB",
        "outputId": "08dc3457-a0a0-4719-9374-5f1880e43bec"
      },
      "outputs": [
        {
          "data": {
            "text/plain": [
              "product_id                       0\n",
              "product_category_name            0\n",
              "product_name_lenght              0\n",
              "product_description_lenght       0\n",
              "product_photos_qty               0\n",
              "product_weight_g                 0\n",
              "product_length_cm                0\n",
              "product_height_cm                0\n",
              "product_width_cm                 0\n",
              "product_category_name_english    0\n",
              "dtype: int64"
            ]
          },
          "execution_count": 51,
          "metadata": {},
          "output_type": "execute_result"
        }
      ],
      "source": [
        "products_with_category_df.isna().sum()"
      ]
    },
    {
      "cell_type": "code",
      "execution_count": 52,
      "metadata": {
        "colab": {
          "base_uri": "https://localhost:8080/"
        },
        "id": "6aFAP_S3wsmC",
        "outputId": "1f7ffca4-a561-4de2-a480-f8444c71e4d4"
      },
      "outputs": [
        {
          "name": "stdout",
          "output_type": "stream",
          "text": [
            "product_category_name_english\n",
            "bed_bath_table               3029\n",
            "sports_leisure               2867\n",
            "furniture_decor              2657\n",
            "health_beauty                2444\n",
            "housewares                   2335\n",
            "                             ... \n",
            "home_comfort_2                  5\n",
            "fashion_childrens_clothes       5\n",
            "pc_gamer                        3\n",
            "security_and_services           2\n",
            "cds_dvds_musicals               1\n",
            "Name: product_id, Length: 73, dtype: int64\n",
            "Jumlah barang yang ada :  32341\n",
            "Jumlah category barang yang ada :  73\n"
          ]
        }
      ],
      "source": [
        "print(products_with_category_df.groupby('product_category_name_english').product_id.nunique().sort_values(ascending=False))\n",
        "\n",
        "print(\"Jumlah barang yang ada : \", len(products_with_category_df))\n",
        "\n",
        "print(\"Jumlah category barang yang ada : \", products_with_category_df.product_category_name_english.nunique())"
      ]
    },
    {
      "cell_type": "markdown",
      "metadata": {
        "id": "pmZjesfFdxU3"
      },
      "source": [
        "Pada e-commerce ini tercata ada 32341 barang yang ditawarkan oleh para penjual, dan barang-barang tersebut terbagi ke dalam 73 kategori"
      ]
    },
    {
      "cell_type": "markdown",
      "metadata": {
        "id": "SC3pFUt_fnRZ"
      },
      "source": [
        "#Visualization and Explanatory Analysis"
      ]
    },
    {
      "cell_type": "markdown",
      "metadata": {
        "id": "6UUy7NfoSQgy"
      },
      "source": [
        "##Seller Mana yang telah mendapatkan revenue terbanyak"
      ]
    },
    {
      "cell_type": "code",
      "execution_count": 53,
      "metadata": {
        "colab": {
          "base_uri": "https://localhost:8080/",
          "height": 593
        },
        "id": "Sof8jDoSSMAK",
        "outputId": "e533b864-1f57-43ae-ee14-e68eb72382f4"
      },
      "outputs": [
        {
          "data": {
            "image/png": "[encoded data removed]",
            "text/plain": [
              "<Figure size 1000x500 with 1 Axes>"
            ]
          },
          "metadata": {},
          "output_type": "display_data"
        }
      ],
      "source": [
        "condition = items_ordered_df.order_status == \"delivered\"\n",
        "\n",
        "colors = [\"#72BCD4\", \"#D3D3D3\", \"#D3D3D3\", \"#D3D3D3\", \"#D3D3D3\"]\n",
        "\n",
        "revenue_ranking_df = seller_items_sold_df[condition].groupby(\"seller_id\").price.sum().sort_values(ascending=False).reset_index().head(5)\n",
        "\n",
        "plt.figure(figsize=(10,5))\n",
        "sns.barplot(x=revenue_ranking_df[\"seller_id\"], y=revenue_ranking_df[\"price\"], palette=colors)\n",
        "\n",
        "plt.xticks(rotation=45, ha='right')\n",
        "\n",
        "plt.tight_layout()\n",
        "plt.show()"
      ]
    },
    {
      "cell_type": "markdown",
      "metadata": {
        "id": "uPxWGSwsSUud"
      },
      "source": [
        "##Kategori produk apa yang memiliki penjualan paling banyak dan paling sedikit"
      ]
    },
    {
      "cell_type": "code",
      "execution_count": 54,
      "metadata": {
        "colab": {
          "base_uri": "https://localhost:8080/",
          "height": 256
        },
        "id": "-npewKb3Sd37",
        "outputId": "5d272885-fc0c-4dae-cecc-e2fa55d2e06d"
      },
      "outputs": [
        {
          "data": {
            "text/html": [
              "<div>\n",
              "<style scoped>\n",
              "    .dataframe tbody tr th:only-of-type {\n",
              "        vertical-align: middle;\n",
              "    }\n",
              "\n",
              "    .dataframe tbody tr th {\n",
              "        vertical-align: top;\n",
              "    }\n",
              "\n",
              "    .dataframe thead th {\n",
              "        text-align: right;\n",
              "    }\n",
              "</style>\n",
              "<table border=\"1\" class=\"dataframe\">\n",
              "  <thead>\n",
              "    <tr style=\"text-align: right;\">\n",
              "      <th></th>\n",
              "      <th>order_id</th>\n",
              "      <th>order_item_id</th>\n",
              "      <th>product_id</th>\n",
              "      <th>seller_id</th>\n",
              "      <th>shipping_limit_date</th>\n",
              "      <th>price</th>\n",
              "      <th>freight_value</th>\n",
              "      <th>customer_id</th>\n",
              "      <th>order_status</th>\n",
              "      <th>order_purchase_timestamp</th>\n",
              "      <th>...</th>\n",
              "      <th>order_estimated_delivery_date</th>\n",
              "      <th>product_category_name</th>\n",
              "      <th>product_name_lenght</th>\n",
              "      <th>product_description_lenght</th>\n",
              "      <th>product_photos_qty</th>\n",
              "      <th>product_weight_g</th>\n",
              "      <th>product_length_cm</th>\n",
              "      <th>product_height_cm</th>\n",
              "      <th>product_width_cm</th>\n",
              "      <th>product_category_name_english</th>\n",
              "    </tr>\n",
              "  </thead>\n",
              "  <tbody>\n",
              "    <tr>\n",
              "      <th>0</th>\n",
              "      <td>00010242fe8c5a6d1ba2dd792cb16214</td>\n",
              "      <td>1</td>\n",
              "      <td>4244733e06e7ecb4970a6e2683c13e61</td>\n",
              "      <td>48436dade18ac8b2bce089ec2a041202</td>\n",
              "      <td>2017-09-19 09:45:35</td>\n",
              "      <td>58.90</td>\n",
              "      <td>13.29</td>\n",
              "      <td>3ce436f183e68e07877b285a838db11a</td>\n",
              "      <td>delivered</td>\n",
              "      <td>2017-09-13 08:59:02</td>\n",
              "      <td>...</td>\n",
              "      <td>2017-09-29 00:00:00</td>\n",
              "      <td>cool_stuff</td>\n",
              "      <td>58.0</td>\n",
              "      <td>598.0</td>\n",
              "      <td>4.0</td>\n",
              "      <td>650.0</td>\n",
              "      <td>28.0</td>\n",
              "      <td>9.0</td>\n",
              "      <td>14.0</td>\n",
              "      <td>cool_stuff</td>\n",
              "    </tr>\n",
              "    <tr>\n",
              "      <th>1</th>\n",
              "      <td>00018f77f2f0320c557190d7a144bdd3</td>\n",
              "      <td>1</td>\n",
              "      <td>e5f2d52b802189ee658865ca93d83a8f</td>\n",
              "      <td>dd7ddc04e1b6c2c614352b383efe2d36</td>\n",
              "      <td>2017-05-03 11:05:13</td>\n",
              "      <td>239.90</td>\n",
              "      <td>19.93</td>\n",
              "      <td>f6dd3ec061db4e3987629fe6b26e5cce</td>\n",
              "      <td>delivered</td>\n",
              "      <td>2017-04-26 10:53:06</td>\n",
              "      <td>...</td>\n",
              "      <td>2017-05-15 00:00:00</td>\n",
              "      <td>pet_shop</td>\n",
              "      <td>56.0</td>\n",
              "      <td>239.0</td>\n",
              "      <td>2.0</td>\n",
              "      <td>30000.0</td>\n",
              "      <td>50.0</td>\n",
              "      <td>30.0</td>\n",
              "      <td>40.0</td>\n",
              "      <td>pet_shop</td>\n",
              "    </tr>\n",
              "    <tr>\n",
              "      <th>2</th>\n",
              "      <td>000229ec398224ef6ca0657da4fc703e</td>\n",
              "      <td>1</td>\n",
              "      <td>c777355d18b72b67abbeef9df44fd0fd</td>\n",
              "      <td>5b51032eddd242adc84c38acab88f23d</td>\n",
              "      <td>2018-01-18 14:48:30</td>\n",
              "      <td>199.00</td>\n",
              "      <td>17.87</td>\n",
              "      <td>6489ae5e4333f3693df5ad4372dab6d3</td>\n",
              "      <td>delivered</td>\n",
              "      <td>2018-01-14 14:33:31</td>\n",
              "      <td>...</td>\n",
              "      <td>2018-02-05 00:00:00</td>\n",
              "      <td>moveis_decoracao</td>\n",
              "      <td>59.0</td>\n",
              "      <td>695.0</td>\n",
              "      <td>2.0</td>\n",
              "      <td>3050.0</td>\n",
              "      <td>33.0</td>\n",
              "      <td>13.0</td>\n",
              "      <td>33.0</td>\n",
              "      <td>furniture_decor</td>\n",
              "    </tr>\n",
              "    <tr>\n",
              "      <th>3</th>\n",
              "      <td>00024acbcdf0a6daa1e931b038114c75</td>\n",
              "      <td>1</td>\n",
              "      <td>7634da152a4610f1595efa32f14722fc</td>\n",
              "      <td>9d7a1d34a5052409006425275ba1c2b4</td>\n",
              "      <td>2018-08-15 10:10:18</td>\n",
              "      <td>12.99</td>\n",
              "      <td>12.79</td>\n",
              "      <td>d4eb9395c8c0431ee92fce09860c5a06</td>\n",
              "      <td>delivered</td>\n",
              "      <td>2018-08-08 10:00:35</td>\n",
              "      <td>...</td>\n",
              "      <td>2018-08-20 00:00:00</td>\n",
              "      <td>perfumaria</td>\n",
              "      <td>42.0</td>\n",
              "      <td>480.0</td>\n",
              "      <td>1.0</td>\n",
              "      <td>200.0</td>\n",
              "      <td>16.0</td>\n",
              "      <td>10.0</td>\n",
              "      <td>15.0</td>\n",
              "      <td>perfumery</td>\n",
              "    </tr>\n",
              "    <tr>\n",
              "      <th>4</th>\n",
              "      <td>00042b26cf59d7ce69dfabb4e55b4fd9</td>\n",
              "      <td>1</td>\n",
              "      <td>ac6c3623068f30de03045865e4e10089</td>\n",
              "      <td>df560393f3a51e74553ab94004ba5c87</td>\n",
              "      <td>2017-02-13 13:57:51</td>\n",
              "      <td>199.90</td>\n",
              "      <td>18.14</td>\n",
              "      <td>58dbd0b2d70206bf40e62cd34e84d795</td>\n",
              "      <td>delivered</td>\n",
              "      <td>2017-02-04 13:57:51</td>\n",
              "      <td>...</td>\n",
              "      <td>2017-03-17 00:00:00</td>\n",
              "      <td>ferramentas_jardim</td>\n",
              "      <td>59.0</td>\n",
              "      <td>409.0</td>\n",
              "      <td>1.0</td>\n",
              "      <td>3750.0</td>\n",
              "      <td>35.0</td>\n",
              "      <td>40.0</td>\n",
              "      <td>30.0</td>\n",
              "      <td>garden_tools</td>\n",
              "    </tr>\n",
              "  </tbody>\n",
              "</table>\n",
              "<p>5 rows × 23 columns</p>\n",
              "</div>"
            ],
            "text/plain": [
              "                           order_id  order_item_id  \\\n",
              "0  00010242fe8c5a6d1ba2dd792cb16214              1   \n",
              "1  00018f77f2f0320c557190d7a144bdd3              1   \n",
              "2  000229ec398224ef6ca0657da4fc703e              1   \n",
              "3  00024acbcdf0a6daa1e931b038114c75              1   \n",
              "4  00042b26cf59d7ce69dfabb4e55b4fd9              1   \n",
              "\n",
              "                         product_id                         seller_id  \\\n",
              "0  4244733e06e7ecb4970a6e2683c13e61  48436dade18ac8b2bce089ec2a041202   \n",
              "1  e5f2d52b802189ee658865ca93d83a8f  dd7ddc04e1b6c2c614352b383efe2d36   \n",
              "2  c777355d18b72b67abbeef9df44fd0fd  5b51032eddd242adc84c38acab88f23d   \n",
              "3  7634da152a4610f1595efa32f14722fc  9d7a1d34a5052409006425275ba1c2b4   \n",
              "4  ac6c3623068f30de03045865e4e10089  df560393f3a51e74553ab94004ba5c87   \n",
              "\n",
              "   shipping_limit_date   price  freight_value  \\\n",
              "0  2017-09-19 09:45:35   58.90          13.29   \n",
              "1  2017-05-03 11:05:13  239.90          19.93   \n",
              "2  2018-01-18 14:48:30  199.00          17.87   \n",
              "3  2018-08-15 10:10:18   12.99          12.79   \n",
              "4  2017-02-13 13:57:51  199.90          18.14   \n",
              "\n",
              "                        customer_id order_status order_purchase_timestamp  \\\n",
              "0  3ce436f183e68e07877b285a838db11a    delivered      2017-09-13 08:59:02   \n",
              "1  f6dd3ec061db4e3987629fe6b26e5cce    delivered      2017-04-26 10:53:06   \n",
              "2  6489ae5e4333f3693df5ad4372dab6d3    delivered      2018-01-14 14:33:31   \n",
              "3  d4eb9395c8c0431ee92fce09860c5a06    delivered      2018-08-08 10:00:35   \n",
              "4  58dbd0b2d70206bf40e62cd34e84d795    delivered      2017-02-04 13:57:51   \n",
              "\n",
              "   ... order_estimated_delivery_date product_category_name  \\\n",
              "0  ...           2017-09-29 00:00:00            cool_stuff   \n",
              "1  ...           2017-05-15 00:00:00              pet_shop   \n",
              "2  ...           2018-02-05 00:00:00      moveis_decoracao   \n",
              "3  ...           2018-08-20 00:00:00            perfumaria   \n",
              "4  ...           2017-03-17 00:00:00    ferramentas_jardim   \n",
              "\n",
              "  product_name_lenght product_description_lenght product_photos_qty  \\\n",
              "0                58.0                      598.0                4.0   \n",
              "1                56.0                      239.0                2.0   \n",
              "2                59.0                      695.0                2.0   \n",
              "3                42.0                      480.0                1.0   \n",
              "4                59.0                      409.0                1.0   \n",
              "\n",
              "   product_weight_g  product_length_cm  product_height_cm product_width_cm  \\\n",
              "0             650.0               28.0                9.0             14.0   \n",
              "1           30000.0               50.0               30.0             40.0   \n",
              "2            3050.0               33.0               13.0             33.0   \n",
              "3             200.0               16.0               10.0             15.0   \n",
              "4            3750.0               35.0               40.0             30.0   \n",
              "\n",
              "  product_category_name_english  \n",
              "0                    cool_stuff  \n",
              "1                      pet_shop  \n",
              "2               furniture_decor  \n",
              "3                     perfumery  \n",
              "4                  garden_tools  \n",
              "\n",
              "[5 rows x 23 columns]"
            ]
          },
          "execution_count": 54,
          "metadata": {},
          "output_type": "execute_result"
        }
      ],
      "source": [
        "canceled_condition = [\"canceled\", \"unavailable\"]\n",
        "\n",
        "indices_to_drop = items_ordered_df[items_ordered_df['order_status'].isin(canceled_condition)].index\n",
        "\n",
        "uncanceled_orders_df = items_ordered_df.drop(indices_to_drop)\n",
        "\n",
        "ordered_items_category_df = pd.merge(\n",
        "    left=uncanceled_orders_df,\n",
        "    right=products_with_category_df,\n",
        "    how=\"left\",\n",
        "    left_on=\"product_id\",\n",
        "    right_on=\"product_id\"\n",
        ")\n",
        "\n",
        "ordered_items_category_df.head()"
      ]
    },
    {
      "cell_type": "code",
      "execution_count": 55,
      "metadata": {
        "colab": {
          "base_uri": "https://localhost:8080/",
          "height": 745
        },
        "id": "pFb2eoGHsxKr",
        "outputId": "039c2706-0099-44b0-afe2-e46bf357a7d9"
      },
      "outputs": [
        {
          "data": {
            "image/png": "[encoded data removed]",
            "text/plain": [
              "<Figure size 2400x1000 with 2 Axes>"
            ]
          },
          "metadata": {},
          "output_type": "display_data"
        }
      ],
      "source": [
        "ordered_category_amount_df = ordered_items_category_df.groupby(\"product_category_name_english\").order_id.nunique().reset_index()\n",
        "\n",
        "ordered_category_amount_df.rename(columns={\"order_id\": \"order_amount\"}, inplace=True)\n",
        "\n",
        "colors = [\"#72BCD4\", \"#D3D3D3\", \"#D3D3D3\", \"#D3D3D3\", \"#D3D3D3\"]\n",
        "\n",
        "fig, ax = plt.subplots(nrows=1, ncols=2, figsize=(24,10))\n",
        "\n",
        "sns.barplot(x=\"order_amount\", y=\"product_category_name_english\", data=ordered_category_amount_df.sort_values(\"order_amount\", ascending=False).head(5), palette=colors, hue=\"product_category_name_english\", ax=ax[0])\n",
        "ax[0].set_ylabel(None)\n",
        "ax[0].set_xlabel(None)\n",
        "ax[0].set_title(\"Best Performing Category\", loc=\"center\", fontsize=15)\n",
        "ax[0].legend().remove()\n",
        "\n",
        "sns.barplot(x=\"order_amount\", y=\"product_category_name_english\", data=ordered_category_amount_df.sort_values(\"order_amount\").head(5), palette=colors, hue=\"product_category_name_english\", ax=ax[1])\n",
        "ax[1].set_ylabel(None)\n",
        "ax[1].set_xlabel(None)\n",
        "ax[1].set_title(\"Worst Performing Category\", loc=\"center\", fontsize=15)\n",
        "ax[1].invert_xaxis()\n",
        "ax[1].yaxis.set_label_position(\"right\")\n",
        "ax[1].yaxis.tick_right()\n",
        "ax[1].legend().remove()\n",
        "\n",
        "plt.suptitle(\"Best and Worst Performing Category by Number of Sales\", fontsize=20)\n",
        "plt.show()"
      ]
    },
    {
      "cell_type": "markdown",
      "metadata": {
        "id": "to2UG-xvcwEd"
      },
      "source": [
        "##RFM Analysis"
      ]
    },
    {
      "cell_type": "code",
      "execution_count": 68,
      "metadata": {
        "colab": {
          "base_uri": "https://localhost:8080/",
          "height": 206
        },
        "id": "Zj5bVJX1czot",
        "outputId": "86c9bec7-4e33-4659-a176-0c882e9c62db"
      },
      "outputs": [
        {
          "data": {
            "text/html": [
              "<div>\n",
              "<style scoped>\n",
              "    .dataframe tbody tr th:only-of-type {\n",
              "        vertical-align: middle;\n",
              "    }\n",
              "\n",
              "    .dataframe tbody tr th {\n",
              "        vertical-align: top;\n",
              "    }\n",
              "\n",
              "    .dataframe thead th {\n",
              "        text-align: right;\n",
              "    }\n",
              "</style>\n",
              "<table border=\"1\" class=\"dataframe\">\n",
              "  <thead>\n",
              "    <tr style=\"text-align: right;\">\n",
              "      <th></th>\n",
              "      <th>customer_id</th>\n",
              "      <th>frequency</th>\n",
              "      <th>monetary</th>\n",
              "      <th>recency</th>\n",
              "    </tr>\n",
              "  </thead>\n",
              "  <tbody>\n",
              "    <tr>\n",
              "      <th>0</th>\n",
              "      <td>00012a2ce6f8dcda20d059ce98491703</td>\n",
              "      <td>1</td>\n",
              "      <td>89.80</td>\n",
              "      <td>293</td>\n",
              "    </tr>\n",
              "    <tr>\n",
              "      <th>1</th>\n",
              "      <td>000161a058600d5901f007fab4c27140</td>\n",
              "      <td>1</td>\n",
              "      <td>54.90</td>\n",
              "      <td>414</td>\n",
              "    </tr>\n",
              "    <tr>\n",
              "      <th>2</th>\n",
              "      <td>0001fd6190edaaf884bcaf3d49edf079</td>\n",
              "      <td>1</td>\n",
              "      <td>179.99</td>\n",
              "      <td>552</td>\n",
              "    </tr>\n",
              "    <tr>\n",
              "      <th>3</th>\n",
              "      <td>0002414f95344307404f0ace7a26f1d5</td>\n",
              "      <td>1</td>\n",
              "      <td>149.90</td>\n",
              "      <td>383</td>\n",
              "    </tr>\n",
              "    <tr>\n",
              "      <th>4</th>\n",
              "      <td>000379cdec625522490c315e70c7a9fb</td>\n",
              "      <td>1</td>\n",
              "      <td>93.00</td>\n",
              "      <td>154</td>\n",
              "    </tr>\n",
              "  </tbody>\n",
              "</table>\n",
              "</div>"
            ],
            "text/plain": [
              "                        customer_id  frequency  monetary  recency\n",
              "0  00012a2ce6f8dcda20d059ce98491703          1     89.80      293\n",
              "1  000161a058600d5901f007fab4c27140          1     54.90      414\n",
              "2  0001fd6190edaaf884bcaf3d49edf079          1    179.99      552\n",
              "3  0002414f95344307404f0ace7a26f1d5          1    149.90      383\n",
              "4  000379cdec625522490c315e70c7a9fb          1     93.00      154"
            ]
          },
          "execution_count": 68,
          "metadata": {},
          "output_type": "execute_result"
        }
      ],
      "source": [
        "customers_purchases[\"order_purchase_timestamp\"] = pd.to_datetime(customers_purchases[\"order_purchase_timestamp\"])\n",
        "\n",
        "rfm_df = customers_purchases.groupby(by=\"customer_id\", as_index=False).agg({\n",
        "    \"order_purchase_timestamp\": \"max\",\n",
        "    \"order_id\": \"count\",\n",
        "    \"price\": \"sum\"\n",
        "})\n",
        "rfm_df.columns = [\"customer_id\", \"max_order_timestamp\", \"frequency\", \"monetary\"]\n",
        "\n",
        "rfm_df[\"max_order_timestamp\"] = rfm_df[\"max_order_timestamp\"].dt.date\n",
        "recent_date = customers_purchases[\"order_purchase_timestamp\"].dt.date.max()\n",
        "rfm_df[\"recency\"] = rfm_df[\"max_order_timestamp\"].apply(lambda x: (recent_date - x).days)\n",
        "\n",
        "rfm_df.drop(\"max_order_timestamp\", axis=1, inplace=True)\n",
        "rfm_df.head()"
      ]
    },
    {
      "cell_type": "code",
      "execution_count": 69,
      "metadata": {
        "colab": {
          "base_uri": "https://localhost:8080/",
          "height": 896
        },
        "id": "ggC_0XjmjRAP",
        "outputId": "426d72a6-0271-4a49-e37b-6be7c695d6d2"
      },
      "outputs": [
        {
          "data": {
            "image/png": "[encoded data removed]",
            "text/plain": [
              "<Figure size 3000x600 with 3 Axes>"
            ]
          },
          "metadata": {},
          "output_type": "display_data"
        }
      ],
      "source": [
        "fig, ax = plt.subplots(nrows=1, ncols=3, figsize=(30, 6))\n",
        "\n",
        "colors = [\"#72BCD4\", \"#72BCD4\", \"#72BCD4\", \"#72BCD4\", \"#72BCD4\"]\n",
        "\n",
        "sns.barplot(y=\"recency\", x=\"customer_id\", data=rfm_df.sort_values(by=\"recency\", ascending=True).head(5), palette=colors, ax=ax[0])\n",
        "ax[0].set_ylabel(None)\n",
        "ax[0].set_xlabel(None)\n",
        "ax[0].set_title(\"By Recency (days)\", loc=\"center\", fontsize=18)\n",
        "ax[0].tick_params(axis ='x', labelsize=15, rotation=45)\n",
        "\n",
        "\n",
        "sns.barplot(y=\"frequency\", x=\"customer_id\", data=rfm_df.sort_values(by=\"frequency\", ascending=False).head(5), palette=colors, ax=ax[1])\n",
        "ax[1].set_ylabel(None)\n",
        "ax[1].set_xlabel(None)\n",
        "ax[1].set_title(\"By Frequency\", loc=\"center\", fontsize=18)\n",
        "ax[1].tick_params(axis='x', labelsize=15, rotation=45)\n",
        "\n",
        "sns.barplot(y=\"monetary\", x=\"customer_id\", data=rfm_df.sort_values(by=\"monetary\", ascending=False).head(5), palette=colors, ax=ax[2])\n",
        "ax[2].set_ylabel(None)\n",
        "ax[2].set_xlabel(None)\n",
        "ax[2].set_title(\"By Monetary\", loc=\"center\", fontsize=18)\n",
        "ax[2].tick_params(axis='x', labelsize=15, rotation=45)\n",
        "\n",
        "for axes in ax:\n",
        "  for label in axes.get_xticklabels():\n",
        "      label.set_horizontalalignment('right')\n",
        "\n",
        "plt.suptitle(\"Best Customer Based on RFM Parameters (customer_id)\", fontsize=20)\n",
        "plt.show()"
      ]
    },
    {
      "cell_type": "markdown",
      "metadata": {
        "id": "bW53vh4jfu8K"
      },
      "source": [
        "#Conclusion"
      ]
    },
    {
      "cell_type": "markdown",
      "metadata": {
        "id": "2LMZuX7bz47I"
      },
      "source": [
        "\n",
        "\n",
        "*   Seller dengan revenue tertinggi di e-commerce ini adalah seller dengan id \"4869f7a5dfa277a7dca6462dcf3b52b2\"\n",
        "*   Kategori produk yang memiliki penjualan paling banyak adalah \"bed_bath_table\" sedangkan kategori produk yang memiliki penjualan paling sedikit adalah \"security_and_services\"\n",
        "*   Terakhir kali seorang pelanggan berbelanja adalah 44 hari yang lalu\n",
        "*   Frekuensi belanja tertinggi seorang pelanggan di e-commerce ini adalah 1 kali\n",
        "*   Jumlah terbanyak yang dikeluarkan seorang pelanggan berbelanja di e-commerce ini adalah 13440\n",
        "\n"
      ]
    },
    {
      "cell_type": "code",
      "execution_count": 59,
      "metadata": {
        "id": "YEY4lWOu2JjG"
      },
      "outputs": [],
      "source": [
        "main_df = pd.merge(\n",
        "    left=seller_items_sold_df,\n",
        "    right=customers_df,\n",
        "    how=\"left\",\n",
        "    left_on=\"customer_id\",\n",
        "    right_on=\"customer_id\"\n",
        ")\n",
        "\n",
        "main_df = pd.merge(\n",
        "    left=main_df,\n",
        "    right=products_with_category_df,\n",
        "    how=\"left\",\n",
        "    left_on=\"product_id\",\n",
        "    right_on=\"product_id\"\n",
        ")\n",
        "\n",
        "main_df.to_csv(\"main_df.csv\")"
      ]
    }
  ],
  "metadata": {
    "colab": {
      "provenance": [],
      "toc_visible": true
    },
    "kernelspec": {
      "display_name": "Python 3",
      "name": "python3"
    },
    "language_info": {
      "codemirror_mode": {
        "name": "ipython",
        "version": 3
      },
      "file_extension": ".py",
      "mimetype": "text/x-python",
      "name": "python",
      "nbconvert_exporter": "python",
      "pygments_lexer": "ipython3",
      "version": "3.10.4"
    }
  },
  "nbformat": 4,
  "nbformat_minor": 0
}
